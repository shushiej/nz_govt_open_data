{
 "cells": [
  {
   "cell_type": "code",
   "execution_count": 286,
   "metadata": {},
   "outputs": [],
   "source": [
    "import pandas as pd\n",
    "import numpy as np\n",
    "import seaborn as sns\n",
    "import matplotlib.pyplot as plt\n",
    "\n",
    "import warnings\n",
    "warnings.filterwarnings('ignore')"
   ]
  },
  {
   "cell_type": "code",
   "execution_count": 76,
   "metadata": {},
   "outputs": [],
   "source": [
    "df = pd.read_csv('./DATA/wellbeing-statistics-2018-csv/wellbeing statistics 2018.csv')"
   ]
  },
  {
   "cell_type": "markdown",
   "metadata": {},
   "source": [
    "### Values for codes need to be unpacked from the .xls file"
   ]
  },
  {
   "cell_type": "code",
   "execution_count": 116,
   "metadata": {},
   "outputs": [],
   "source": [
    "df_means = df[(df['CACode'] == \"C01T\") & (df['VaCode'].str.contains(\"M\"))]"
   ]
  },
  {
   "cell_type": "code",
   "execution_count": 118,
   "metadata": {},
   "outputs": [],
   "source": [
    "VACodes = {\n",
    "    \"V01M\" : \"overall_life_satisfaction\",\n",
    "    \"V02M\" : \"life_worthwhile\",\n",
    "    \"V03M\" : \"family_wellbeing\",\n",
    "    \"V11M\" : \"fear_of_crime\",\n",
    "    \"V17M\" : \"trust_for_people\",\n",
    "    \"V18M\" : \"trust_for_courts\",\n",
    "    \"V19M\" : \"trust_for_education_system\",\n",
    "    \"V20M\" : \"trust_for_health_care\",\n",
    "    \"V21M\" : \"trust_for_media\",\n",
    "    \"V22M\" : \"trust_for_parliment\",\n",
    "    \"V23M\" : \"trust_for_police\"\n",
    "}\n",
    "\n",
    "def rename(x):\n",
    "    return VACodes[x]\n",
    "    "
   ]
  },
  {
   "cell_type": "code",
   "execution_count": 287,
   "metadata": {},
   "outputs": [],
   "source": [
    "df_means['VA_Meaning'] = df_means['VaCode'].apply(rename)"
   ]
  },
  {
   "cell_type": "code",
   "execution_count": 288,
   "metadata": {},
   "outputs": [],
   "source": [
    "df_means['Estimate'] = pd.to_numeric(df_means['Estimate'])"
   ]
  },
  {
   "cell_type": "code",
   "execution_count": 289,
   "metadata": {},
   "outputs": [
    {
     "data": {
      "image/png": "[encoded data removed]",
      "text/plain": [
       "<Figure size 1080x648 with 1 Axes>"
      ]
     },
     "metadata": {
      "needs_background": "light"
     },
     "output_type": "display_data"
    }
   ],
   "source": [
    "plt.subplots(figsize=(15, 9))\n",
    "plt.title(\"Average Ratings 0 - 10\")\n",
    "plt.bar(df_means['VA_Meaning'], df_means[\"Estimate\"])\n",
    "plt.xticks(rotation=90)\n",
    "plt.show()"
   ]
  },
  {
   "cell_type": "code",
   "execution_count": 30,
   "metadata": {},
   "outputs": [],
   "source": [
    "codes = []\n",
    "for k,v in CACodes.items():\n",
    "    for code in v:\n",
    "        if code in list(df.CACode.values):\n",
    "            codes.append(k)\n",
    "df_new = pd.DataFrame(columns=list(set(codes)))"
   ]
  },
  {
   "cell_type": "code",
   "execution_count": 134,
   "metadata": {},
   "outputs": [],
   "source": [
    "CACodes = {\n",
    "    \"total\" : [\"C01T\"],\n",
    "    \"lifestage\" : [\"C02A\",\"C02B\",\"C02C\",\"C02B\"],\n",
    "    \"age_group\" : [\"C03A\",\"C03B\",\"C03C\",\"C03D\",\"C03E\",\"C03F\",\"C03G\"],\n",
    "    \"sex\" : [\"C04A\", \"C04B\"],\n",
    "    \"labour_force_status\" : [\"C05A\", \"C05B\", \"C05C\"],\n",
    "    \"highest_qualification\": [\"C06A\", \"C06B\", \"C06C\",  \"C06D\"],\n",
    "    \"household_income\" : [\"C07A\" ,\"C07B\", \"C07C\", \"C07D\",\"C07E\"],\n",
    "    \"personal_income\" : [\"C08A\", \"C08B\", \"C08C\"],\n",
    "    \"housing_tenure\" : [\"C09A\", \"C09B\"],\n",
    "    \"family_type\" : [\"C10A\", \"C10B\", \"C10C\", \"C10D\"],\n",
    "    \"migrant_status\" : [\"C11A\", \"C11B\", \"C11C\"],\n",
    "    \"ethnicity\" : [\"C12A\", \"C12B\", \"C12C\", \"C12D\"],\n",
    "    \"region\" : [\"C13A\", \"C13B\", \"C13C\", \"C13D\", \"C13E\", \"C13F\", \"C13G\", \"C13H\",  \"C13I\", \"C13J\", \"C13K\", \"C13L\"],\n",
    "    \"urban_rural\": [\"C14A\", \"C14B\",\"C14C\", \"C14D\", \"C14E\"],\n",
    "    \"disability_status\" : [\"C15A\", \"C15B\"],\n",
    "    \"sexual_identity\": [\"C16A\", \"C16B\", \"C16C\", \"C16D\"],\n",
    "    \"total_18+\" : [\"C16T\"]\n",
    "}\n",
    "\n",
    "CACodes_Values = {\n",
    "    \"lifestage\" : [\"15-24\", \"25–44\", \"45–64\", \"65+\"],\n",
    "    \"age_group\" : [\"15–24\", \"25–34\", \"35–44\", \"45–54\", \"55–64\", \"65–74\", \"75+\"],\n",
    "    \"sex\" : [\"male\", \"female\"],\n",
    "    \"labour_force_status\" : [\"Employed\", \"Unemployed\", \"Not in the labour force\"],\n",
    "    \"highest_qualification\" : [\"No qualification\", \"Level 1–4 certificate\", \"Level 5–6 diploma\", \"Level 7/ Bachelor degree and above\"],\n",
    "    \"household_income\" : [\"$30,000 or less\", \"$30,001– $70,000\", \"$70,001– $100,000\", \"$100,001– $150,000\",\"$150,001 or more\"],\n",
    "    \"personal_income\" : [\"$30,000 or less\", \"$30,001– $70,000\", \"$70,001 +\"],\n",
    "    \"housing_tenure\" : [\"Owner-occupied\", \"Not owner – occupied\"],\n",
    "    \"family_type\" : [\"Couple without child(ren)\", \"Couple with child(ren)\",\"One parent with child(ren)\",\"Not in a family nucleus\"],\n",
    "    \"migrant_status\" : [\"Born in NZ\",\"Long-term migrant\", \"Recent migrant\"],\n",
    "    \"ethnicity\" : [\"European\",\"Maori\", \"Pacific peoples\",\"Asian\"],\n",
    "    \"region\" : [\"Northland\", \"Auckland\", \"Waikato\", \"Bay of Plenty\", \"Gisborne\", \"Taranaki\", \"Whanganui\", \"Wellington\", \"Nelson/Tasman/Marlborough/West Coast\",\"Canterbury\", \"Otago\",\"Southland\"],\n",
    "    \"urban_rural\" : [\"Urban major\", \"Urban large\", \"Urban medium\", \"Urban small\",\"Rural/other\"],\n",
    "    \"disability_status\" : [\"Disabled\", \"Non - disabled\"],\n",
    "    \"sexual_identity\" : [\"Heterosexual or straight\", \"Gay or lesbian\", \"Bisexual\", \"Other Identities\"]\n",
    "}"
   ]
  },
  {
   "cell_type": "code",
   "execution_count": 151,
   "metadata": {},
   "outputs": [],
   "source": [
    "df_4 = pd.read_csv(\"./DATA/suicides2006-2015.csv\")"
   ]
  },
  {
   "cell_type": "code",
   "execution_count": 159,
   "metadata": {},
   "outputs": [],
   "source": [
    "df_4.dropna(axis=1, how='all',inplace=True)\n",
    "df_4.dropna(axis=0, how='all',inplace=True)"
   ]
  },
  {
   "cell_type": "code",
   "execution_count": 164,
   "metadata": {},
   "outputs": [],
   "source": [
    "df_4.set_index('Unnamed: 0', inplace=True)"
   ]
  },
  {
   "cell_type": "code",
   "execution_count": 178,
   "metadata": {},
   "outputs": [],
   "source": [
    "df_4.rename(columns={\"Unnamed: 2\":\"2006\",\"Unnamed: 3\":\"2007\",\"Unnamed: 4\":\"2008\",\"Unnamed: 5\":\"2009\",\"Unnamed: 6\":\"2010\",\"Unnamed: 7\":\"2011\",\"Unnamed: 8\":\"2012\",\"Unnamed: 9\":\"2013\",\"Unnamed: 10\":\"2014\",\"Unnamed: 11\":\"2015\"}, inplace=True)"
   ]
  },
  {
   "cell_type": "code",
   "execution_count": 180,
   "metadata": {},
   "outputs": [],
   "source": [
    "df_4 = df_4.iloc[2:]"
   ]
  },
  {
   "cell_type": "code",
   "execution_count": 184,
   "metadata": {},
   "outputs": [],
   "source": [
    "num_deaths = df_4.iloc[1:4]"
   ]
  },
  {
   "cell_type": "code",
   "execution_count": 255,
   "metadata": {},
   "outputs": [],
   "source": [
    "deaths_per_age_group = df_4 .iloc[9:13]"
   ]
  },
  {
   "cell_type": "code",
   "execution_count": 195,
   "metadata": {},
   "outputs": [],
   "source": [
    "maori_deaths = df_4.iloc[14:16]"
   ]
  },
  {
   "cell_type": "code",
   "execution_count": 198,
   "metadata": {},
   "outputs": [],
   "source": [
    "non_moari_deaths = df_4.iloc[17:19]"
   ]
  },
  {
   "cell_type": "code",
   "execution_count": 200,
   "metadata": {},
   "outputs": [
    {
     "data": {
      "text/html": [
       "<div>\n",
       "<style scoped>\n",
       "    .dataframe tbody tr th:only-of-type {\n",
       "        vertical-align: middle;\n",
       "    }\n",
       "\n",
       "    .dataframe tbody tr th {\n",
       "        vertical-align: top;\n",
       "    }\n",
       "\n",
       "    .dataframe thead th {\n",
       "        text-align: right;\n",
       "    }\n",
       "</style>\n",
       "<table border=\"1\" class=\"dataframe\">\n",
       "  <thead>\n",
       "    <tr style=\"text-align: right;\">\n",
       "      <th></th>\n",
       "      <th>2006</th>\n",
       "      <th>2007</th>\n",
       "      <th>2008</th>\n",
       "      <th>2009</th>\n",
       "      <th>2010</th>\n",
       "      <th>2011</th>\n",
       "      <th>2012</th>\n",
       "      <th>2013</th>\n",
       "      <th>2014</th>\n",
       "      <th>2015</th>\n",
       "    </tr>\n",
       "    <tr>\n",
       "      <th>Unnamed: 0</th>\n",
       "      <th></th>\n",
       "      <th></th>\n",
       "      <th></th>\n",
       "      <th></th>\n",
       "      <th></th>\n",
       "      <th></th>\n",
       "      <th></th>\n",
       "      <th></th>\n",
       "      <th></th>\n",
       "      <th></th>\n",
       "    </tr>\n",
       "  </thead>\n",
       "  <tbody>\n",
       "    <tr>\n",
       "      <th>Male</th>\n",
       "      <td>388</td>\n",
       "      <td>371.0</td>\n",
       "      <td>381.0</td>\n",
       "      <td>393.0</td>\n",
       "      <td>386.0</td>\n",
       "      <td>377.0</td>\n",
       "      <td>404.0</td>\n",
       "      <td>367.0</td>\n",
       "      <td>380.0</td>\n",
       "      <td>384.0</td>\n",
       "    </tr>\n",
       "    <tr>\n",
       "      <th>Female</th>\n",
       "      <td>138</td>\n",
       "      <td>116.0</td>\n",
       "      <td>139.0</td>\n",
       "      <td>117.0</td>\n",
       "      <td>149.0</td>\n",
       "      <td>116.0</td>\n",
       "      <td>146.0</td>\n",
       "      <td>147.0</td>\n",
       "      <td>130.0</td>\n",
       "      <td>143.0</td>\n",
       "    </tr>\n",
       "    <tr>\n",
       "      <th>Total</th>\n",
       "      <td>526</td>\n",
       "      <td>487.0</td>\n",
       "      <td>520.0</td>\n",
       "      <td>510.0</td>\n",
       "      <td>535.0</td>\n",
       "      <td>493.0</td>\n",
       "      <td>550.0</td>\n",
       "      <td>514.0</td>\n",
       "      <td>510.0</td>\n",
       "      <td>527.0</td>\n",
       "    </tr>\n",
       "  </tbody>\n",
       "</table>\n",
       "</div>"
      ],
      "text/plain": [
       "           2006   2007   2008   2009   2010   2011   2012   2013   2014   2015\n",
       "Unnamed: 0                                                                    \n",
       "Male        388  371.0  381.0  393.0  386.0  377.0  404.0  367.0  380.0  384.0\n",
       "Female      138  116.0  139.0  117.0  149.0  116.0  146.0  147.0  130.0  143.0\n",
       "Total       526  487.0  520.0  510.0  535.0  493.0  550.0  514.0  510.0  527.0"
      ]
     },
     "execution_count": 200,
     "metadata": {},
     "output_type": "execute_result"
    }
   ],
   "source": [
    "num_deaths.head()"
   ]
  },
  {
   "cell_type": "code",
   "execution_count": 203,
   "metadata": {},
   "outputs": [],
   "source": [
    "num_deaths.reset_index(inplace=True)"
   ]
  },
  {
   "cell_type": "code",
   "execution_count": 290,
   "metadata": {},
   "outputs": [],
   "source": [
    "num_deaths.rename(columns={\"Unnamed: 0\" : \"category\"}, inplace=True)"
   ]
  },
  {
   "cell_type": "code",
   "execution_count": 213,
   "metadata": {},
   "outputs": [],
   "source": [
    "num_deaths = num_deaths.T\n",
    "num_deaths.reset_index(inplace=True)\n",
    "num_deaths = num_deaths.iloc[2:]\n",
    "num_deaths.rename(columns={'index' : 'year', 0 : 'male', 1 : 'female', 2 : 'total'}, inplace=True)"
   ]
  },
  {
   "cell_type": "code",
   "execution_count": 291,
   "metadata": {},
   "outputs": [],
   "source": [
    "num_deaths['male'] = pd.to_numeric(num_deaths['male'])\n",
    "num_deaths['female'] = pd.to_numeric(num_deaths['female'])\n",
    "num_deaths['total'] = pd.to_numeric(num_deaths['total'])"
   ]
  },
  {
   "cell_type": "code",
   "execution_count": 301,
   "metadata": {},
   "outputs": [
    {
     "data": {
      "image/png": "[encoded data removed]",
      "text/plain": [
       "<Figure size 576x576 with 1 Axes>"
      ]
     },
     "metadata": {
      "needs_background": "light"
     },
     "output_type": "display_data"
    }
   ],
   "source": [
    "fig = plt.figure(figsize=(8,8))\n",
    "sns.lineplot(x='year', y='male', data=num_deaths)\n",
    "sns.lineplot(x='year', y='female', data=num_deaths)\n",
    "plt.ylabel('deaths')\n",
    "fig.legend(labels=['male', 'female'])\n",
    "plt.show()"
   ]
  },
  {
   "cell_type": "code",
   "execution_count": 257,
   "metadata": {},
   "outputs": [],
   "source": [
    "deaths_per_age_group.reset_index(inplace=True)"
   ]
  },
  {
   "cell_type": "code",
   "execution_count": 292,
   "metadata": {},
   "outputs": [],
   "source": [
    "deaths_per_age_group.rename(columns={'Unnamed: 0' : 'age_group'}, inplace=True)"
   ]
  },
  {
   "cell_type": "code",
   "execution_count": 297,
   "metadata": {},
   "outputs": [
    {
     "data": {
      "text/html": [
       "<div>\n",
       "<style scoped>\n",
       "    .dataframe tbody tr th:only-of-type {\n",
       "        vertical-align: middle;\n",
       "    }\n",
       "\n",
       "    .dataframe tbody tr th {\n",
       "        vertical-align: top;\n",
       "    }\n",
       "\n",
       "    .dataframe thead th {\n",
       "        text-align: right;\n",
       "    }\n",
       "</style>\n",
       "<table border=\"1\" class=\"dataframe\">\n",
       "  <thead>\n",
       "    <tr style=\"text-align: right;\">\n",
       "      <th></th>\n",
       "      <th>age_group</th>\n",
       "      <th>2006</th>\n",
       "      <th>2007</th>\n",
       "      <th>2008</th>\n",
       "      <th>2009</th>\n",
       "      <th>2010</th>\n",
       "      <th>2011</th>\n",
       "      <th>2012</th>\n",
       "      <th>2013</th>\n",
       "      <th>2014</th>\n",
       "      <th>2015</th>\n",
       "    </tr>\n",
       "  </thead>\n",
       "  <tbody>\n",
       "    <tr>\n",
       "      <th>0</th>\n",
       "      <td>15–24</td>\n",
       "      <td>19.7</td>\n",
       "      <td>15.2</td>\n",
       "      <td>19.5</td>\n",
       "      <td>18.1</td>\n",
       "      <td>17.7</td>\n",
       "      <td>20.1</td>\n",
       "      <td>23.0</td>\n",
       "      <td>17.8</td>\n",
       "      <td>14.1</td>\n",
       "      <td>16.9</td>\n",
       "    </tr>\n",
       "    <tr>\n",
       "      <th>1</th>\n",
       "      <td>25–44</td>\n",
       "      <td>17.7</td>\n",
       "      <td>17.4</td>\n",
       "      <td>15.6</td>\n",
       "      <td>14.9</td>\n",
       "      <td>16.8</td>\n",
       "      <td>13.9</td>\n",
       "      <td>15.8</td>\n",
       "      <td>14.2</td>\n",
       "      <td>16.3</td>\n",
       "      <td>14.5</td>\n",
       "    </tr>\n",
       "    <tr>\n",
       "      <th>2</th>\n",
       "      <td>45–64</td>\n",
       "      <td>14.1</td>\n",
       "      <td>13.5</td>\n",
       "      <td>15.2</td>\n",
       "      <td>14.8</td>\n",
       "      <td>14.6</td>\n",
       "      <td>13.5</td>\n",
       "      <td>13.1</td>\n",
       "      <td>16.0</td>\n",
       "      <td>14.2</td>\n",
       "      <td>14.5</td>\n",
       "    </tr>\n",
       "    <tr>\n",
       "      <th>3</th>\n",
       "      <td>65+</td>\n",
       "      <td>10.0</td>\n",
       "      <td>9.3</td>\n",
       "      <td>9.5</td>\n",
       "      <td>9.6</td>\n",
       "      <td>10.0</td>\n",
       "      <td>7.7</td>\n",
       "      <td>9.5</td>\n",
       "      <td>8.9</td>\n",
       "      <td>9.5</td>\n",
       "      <td>9.5</td>\n",
       "    </tr>\n",
       "  </tbody>\n",
       "</table>\n",
       "</div>"
      ],
      "text/plain": [
       "  age_group  2006  2007  2008  2009  2010  2011  2012  2013  2014  2015\n",
       "0     15–24  19.7  15.2  19.5  18.1  17.7  20.1  23.0  17.8  14.1  16.9\n",
       "1     25–44  17.7  17.4  15.6  14.9  16.8  13.9  15.8  14.2  16.3  14.5\n",
       "2     45–64  14.1  13.5  15.2  14.8  14.6  13.5  13.1  16.0  14.2  14.5\n",
       "3       65+  10.0   9.3   9.5   9.6  10.0   7.7   9.5   8.9   9.5   9.5"
      ]
     },
     "execution_count": 297,
     "metadata": {},
     "output_type": "execute_result"
    }
   ],
   "source": [
    "deaths_per_age_group"
   ]
  },
  {
   "cell_type": "code",
   "execution_count": 272,
   "metadata": {},
   "outputs": [],
   "source": [
    "df_d = pd.pivot_table(deaths_per_age_group,index=\"age_group\", values=[\"2006\", \"2007\", \"2008\",\"2009\",\"2010\",\"2011\",\"2012\",\"2013\",\"2014\",\"2015\"], aggfunc=np.sum)"
   ]
  },
  {
   "cell_type": "code",
   "execution_count": 285,
   "metadata": {},
   "outputs": [
    {
     "data": {
      "text/plain": [
       "<matplotlib.axes._subplots.AxesSubplot at 0x1a244b0048>"
      ]
     },
     "execution_count": 285,
     "metadata": {},
     "output_type": "execute_result"
    },
    {
     "data": {
      "image/png": "[encoded data removed]",
      "text/plain": [
       "<Figure size 720x360 with 1 Axes>"
      ]
     },
     "metadata": {
      "needs_background": "light"
     },
     "output_type": "display_data"
    }
   ],
   "source": [
    "df_d.T.plot.line(figsize=(10,5))"
   ]
  },
  {
   "cell_type": "code",
   "execution_count": 298,
   "metadata": {},
   "outputs": [
    {
     "data": {
      "text/html": [
       "<div>\n",
       "<style scoped>\n",
       "    .dataframe tbody tr th:only-of-type {\n",
       "        vertical-align: middle;\n",
       "    }\n",
       "\n",
       "    .dataframe tbody tr th {\n",
       "        vertical-align: top;\n",
       "    }\n",
       "\n",
       "    .dataframe thead th {\n",
       "        text-align: right;\n",
       "    }\n",
       "</style>\n",
       "<table border=\"1\" class=\"dataframe\">\n",
       "  <thead>\n",
       "    <tr style=\"text-align: right;\">\n",
       "      <th></th>\n",
       "      <th>2006</th>\n",
       "      <th>2007</th>\n",
       "      <th>2008</th>\n",
       "      <th>2009</th>\n",
       "      <th>2010</th>\n",
       "      <th>2011</th>\n",
       "      <th>2012</th>\n",
       "      <th>2013</th>\n",
       "      <th>2014</th>\n",
       "      <th>2015</th>\n",
       "    </tr>\n",
       "    <tr>\n",
       "      <th>Unnamed: 0</th>\n",
       "      <th></th>\n",
       "      <th></th>\n",
       "      <th></th>\n",
       "      <th></th>\n",
       "      <th></th>\n",
       "      <th></th>\n",
       "      <th></th>\n",
       "      <th></th>\n",
       "      <th></th>\n",
       "      <th></th>\n",
       "    </tr>\n",
       "  </thead>\n",
       "  <tbody>\n",
       "    <tr>\n",
       "      <th>Male</th>\n",
       "      <td>25.9</td>\n",
       "      <td>25.9</td>\n",
       "      <td>19.8</td>\n",
       "      <td>19.3</td>\n",
       "      <td>23.9</td>\n",
       "      <td>26.3</td>\n",
       "      <td>25.3</td>\n",
       "      <td>21.5</td>\n",
       "      <td>22.5</td>\n",
       "      <td>25.3</td>\n",
       "    </tr>\n",
       "    <tr>\n",
       "      <th>Female</th>\n",
       "      <td>10.7</td>\n",
       "      <td>7.3</td>\n",
       "      <td>8.9</td>\n",
       "      <td>7.4</td>\n",
       "      <td>9.4</td>\n",
       "      <td>9.5</td>\n",
       "      <td>10.5</td>\n",
       "      <td>11.1</td>\n",
       "      <td>7.4</td>\n",
       "      <td>11.5</td>\n",
       "    </tr>\n",
       "  </tbody>\n",
       "</table>\n",
       "</div>"
      ],
      "text/plain": [
       "            2006  2007  2008  2009  2010  2011  2012  2013  2014  2015\n",
       "Unnamed: 0                                                            \n",
       "Male        25.9  25.9  19.8  19.3  23.9  26.3  25.3  21.5  22.5  25.3\n",
       "Female      10.7   7.3   8.9   7.4   9.4   9.5  10.5  11.1   7.4  11.5"
      ]
     },
     "execution_count": 298,
     "metadata": {},
     "output_type": "execute_result"
    }
   ],
   "source": [
    "maori_deaths"
   ]
  },
  {
   "cell_type": "code",
   "execution_count": 299,
   "metadata": {},
   "outputs": [
    {
     "data": {
      "text/html": [
       "<div>\n",
       "<style scoped>\n",
       "    .dataframe tbody tr th:only-of-type {\n",
       "        vertical-align: middle;\n",
       "    }\n",
       "\n",
       "    .dataframe tbody tr th {\n",
       "        vertical-align: top;\n",
       "    }\n",
       "\n",
       "    .dataframe thead th {\n",
       "        text-align: right;\n",
       "    }\n",
       "</style>\n",
       "<table border=\"1\" class=\"dataframe\">\n",
       "  <thead>\n",
       "    <tr style=\"text-align: right;\">\n",
       "      <th></th>\n",
       "      <th>2006</th>\n",
       "      <th>2007</th>\n",
       "      <th>2008</th>\n",
       "      <th>2009</th>\n",
       "      <th>2010</th>\n",
       "      <th>2011</th>\n",
       "      <th>2012</th>\n",
       "      <th>2013</th>\n",
       "      <th>2014</th>\n",
       "      <th>2015</th>\n",
       "    </tr>\n",
       "    <tr>\n",
       "      <th>Unnamed: 0</th>\n",
       "      <th></th>\n",
       "      <th></th>\n",
       "      <th></th>\n",
       "      <th></th>\n",
       "      <th></th>\n",
       "      <th></th>\n",
       "      <th></th>\n",
       "      <th></th>\n",
       "      <th></th>\n",
       "      <th></th>\n",
       "    </tr>\n",
       "  </thead>\n",
       "  <tbody>\n",
       "    <tr>\n",
       "      <th>Male</th>\n",
       "      <td>17.0</td>\n",
       "      <td>15.7</td>\n",
       "      <td>17.0</td>\n",
       "      <td>17.4</td>\n",
       "      <td>15.7</td>\n",
       "      <td>14.9</td>\n",
       "      <td>16.3</td>\n",
       "      <td>14.5</td>\n",
       "      <td>15.2</td>\n",
       "      <td>14.7</td>\n",
       "    </tr>\n",
       "    <tr>\n",
       "      <th>Female</th>\n",
       "      <td>5.3</td>\n",
       "      <td>4.4</td>\n",
       "      <td>5.4</td>\n",
       "      <td>4.4</td>\n",
       "      <td>5.9</td>\n",
       "      <td>4.0</td>\n",
       "      <td>5.2</td>\n",
       "      <td>5.2</td>\n",
       "      <td>4.9</td>\n",
       "      <td>4.7</td>\n",
       "    </tr>\n",
       "  </tbody>\n",
       "</table>\n",
       "</div>"
      ],
      "text/plain": [
       "            2006  2007  2008  2009  2010  2011  2012  2013  2014  2015\n",
       "Unnamed: 0                                                            \n",
       "Male        17.0  15.7  17.0  17.4  15.7  14.9  16.3  14.5  15.2  14.7\n",
       "Female       5.3   4.4   5.4   4.4   5.9   4.0   5.2   5.2   4.9   4.7"
      ]
     },
     "execution_count": 299,
     "metadata": {},
     "output_type": "execute_result"
    }
   ],
   "source": [
    "non_moari_deaths"
   ]
  },
  {
   "cell_type": "code",
   "execution_count": null,
   "metadata": {},
   "outputs": [],
   "source": []
  }
 ],
 "metadata": {
  "kernelspec": {
   "display_name": "Python 3",
   "language": "python",
   "name": "python3"
  },
  "language_info": {
   "codemirror_mode": {
    "name": "ipython",
    "version": 3
   },
   "file_extension": ".py",
   "mimetype": "text/x-python",
   "name": "python",
   "nbconvert_exporter": "python",
   "pygments_lexer": "ipython3",
   "version": "3.5.6"
  }
 },
 "nbformat": 4,
 "nbformat_minor": 2
}
