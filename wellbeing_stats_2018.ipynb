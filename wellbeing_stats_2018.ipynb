{
 "cells": [
  {
   "cell_type": "code",
   "execution_count": 2,
   "metadata": {},
   "outputs": [],
   "source": [
    "import pandas as pd\n",
    "import numpy as np\n",
    "import seaborn as sns\n",
    "import matplotlib.pyplot as plt\n",
    "import pickle\n",
    "import warnings\n",
    "warnings.filterwarnings('ignore')"
   ]
  },
  {
   "cell_type": "code",
   "execution_count": 239,
   "metadata": {},
   "outputs": [],
   "source": [
    "df = pd.read_csv('./DATA/wellbeing-statistics-2018-csv/wellbeing statistics 2018.csv')\n",
    "df = df[df['Estimate'] != 'S']"
   ]
  },
  {
   "cell_type": "code",
   "execution_count": 240,
   "metadata": {},
   "outputs": [],
   "source": [
    "with open('CaCodes.pickle', 'rb') as handle:\n",
    "    CaCodes = pickle.load(handle)"
   ]
  },
  {
   "cell_type": "code",
   "execution_count": 241,
   "metadata": {},
   "outputs": [],
   "source": [
    "with open('VaCodes_Std.pickle', 'rb') as handle:\n",
    "    VaCodes = pickle.load(handle)"
   ]
  },
  {
   "cell_type": "code",
   "execution_count": 242,
   "metadata": {},
   "outputs": [],
   "source": [
    "df['CaCode_Decoded'] = df['CACode'].apply(lambda x: CaCodes[x])"
   ]
  },
  {
   "cell_type": "code",
   "execution_count": 243,
   "metadata": {},
   "outputs": [],
   "source": [
    "df['VaCode_Decoded'] = df['VaCode'].apply(lambda x: VaCodes[x])"
   ]
  },
  {
   "cell_type": "code",
   "execution_count": 244,
   "metadata": {},
   "outputs": [],
   "source": [
    "df = df[(~df.VaCode_Decoded.str.contains(\"safety\")) & (~df.VaCode_Decoded.str.contains(\"social\")) & \n",
    "        (~df.VaCode_Decoded.str.contains(\"acceptance\")) & \n",
    "        (~df.VaCode_Decoded.str.contains(\"security\")) & \n",
    "       (~df.VaCode_Decoded.str.contains(\"express\"))]"
   ]
  },
  {
   "cell_type": "code",
   "execution_count": 245,
   "metadata": {},
   "outputs": [
    {
     "data": {
      "text/html": [
       "<div>\n",
       "<style scoped>\n",
       "    .dataframe tbody tr th:only-of-type {\n",
       "        vertical-align: middle;\n",
       "    }\n",
       "\n",
       "    .dataframe tbody tr th {\n",
       "        vertical-align: top;\n",
       "    }\n",
       "\n",
       "    .dataframe thead th {\n",
       "        text-align: right;\n",
       "    }\n",
       "</style>\n",
       "<table border=\"1\" class=\"dataframe\">\n",
       "  <thead>\n",
       "    <tr style=\"text-align: right;\">\n",
       "      <th></th>\n",
       "      <th>ASE</th>\n",
       "    </tr>\n",
       "  </thead>\n",
       "  <tbody>\n",
       "    <tr>\n",
       "      <th>count</th>\n",
       "      <td>4741.000000</td>\n",
       "    </tr>\n",
       "    <tr>\n",
       "      <th>mean</th>\n",
       "      <td>2.551888</td>\n",
       "    </tr>\n",
       "    <tr>\n",
       "      <th>std</th>\n",
       "      <td>2.311434</td>\n",
       "    </tr>\n",
       "    <tr>\n",
       "      <th>min</th>\n",
       "      <td>0.000000</td>\n",
       "    </tr>\n",
       "    <tr>\n",
       "      <th>25%</th>\n",
       "      <td>1.200000</td>\n",
       "    </tr>\n",
       "    <tr>\n",
       "      <th>50%</th>\n",
       "      <td>2.100000</td>\n",
       "    </tr>\n",
       "    <tr>\n",
       "      <th>75%</th>\n",
       "      <td>3.300000</td>\n",
       "    </tr>\n",
       "    <tr>\n",
       "      <th>max</th>\n",
       "      <td>16.800000</td>\n",
       "    </tr>\n",
       "  </tbody>\n",
       "</table>\n",
       "</div>"
      ],
      "text/plain": [
       "               ASE\n",
       "count  4741.000000\n",
       "mean      2.551888\n",
       "std       2.311434\n",
       "min       0.000000\n",
       "25%       1.200000\n",
       "50%       2.100000\n",
       "75%       3.300000\n",
       "max      16.800000"
      ]
     },
     "execution_count": 245,
     "metadata": {},
     "output_type": "execute_result"
    }
   ],
   "source": [
    "df.describe()"
   ]
  },
  {
   "cell_type": "code",
   "execution_count": 246,
   "metadata": {},
   "outputs": [],
   "source": [
    "new_va = df[\"VaCode_Decoded\"].str.split(\":\", n = 1, expand = True) \n",
    "df['VaCodeVariable'] = new_va[0]\n",
    "df['VaCodeCategory'] = new_va[1]"
   ]
  },
  {
   "cell_type": "code",
   "execution_count": 247,
   "metadata": {},
   "outputs": [],
   "source": [
    "new_ca = df[\"CaCode_Decoded\"].str.split(\":\", n = 1, expand = True) \n",
    "df['CaCodeVariable'] = new_ca[0]\n",
    "df['CaCodeCategory'] = new_ca[1]"
   ]
  },
  {
   "cell_type": "code",
   "execution_count": 248,
   "metadata": {},
   "outputs": [],
   "source": [
    "df.drop(columns=['CACode', 'VaCode', 'ASE', 'Flag', 'CaCode_Decoded', 'VaCode_Decoded'], axis=1, inplace=True)"
   ]
  },
  {
   "cell_type": "code",
   "execution_count": 249,
   "metadata": {},
   "outputs": [],
   "source": [
    "df['Estimate'] = pd.to_numeric(df['Estimate'])"
   ]
  },
  {
   "cell_type": "code",
   "execution_count": 250,
   "metadata": {},
   "outputs": [],
   "source": [
    "df['CaCodeVariable'] = df['CaCodeVariable'].str.replace(\"none\", \"total\")"
   ]
  },
  {
   "cell_type": "code",
   "execution_count": 251,
   "metadata": {},
   "outputs": [],
   "source": [
    "df = df[df.VaCodeCategory != 'mean_rating'] #we dont need the mean_rating variables, because we can calculate it ourselves"
   ]
  },
  {
   "cell_type": "code",
   "execution_count": 252,
   "metadata": {},
   "outputs": [
    {
     "data": {
      "text/html": [
       "<div>\n",
       "<style scoped>\n",
       "    .dataframe tbody tr th:only-of-type {\n",
       "        vertical-align: middle;\n",
       "    }\n",
       "\n",
       "    .dataframe tbody tr th {\n",
       "        vertical-align: top;\n",
       "    }\n",
       "\n",
       "    .dataframe thead th {\n",
       "        text-align: right;\n",
       "    }\n",
       "</style>\n",
       "<table border=\"1\" class=\"dataframe\">\n",
       "  <thead>\n",
       "    <tr style=\"text-align: right;\">\n",
       "      <th></th>\n",
       "      <th>Estimate</th>\n",
       "      <th>VaCodeVariable</th>\n",
       "      <th>VaCodeCategory</th>\n",
       "      <th>CaCodeVariable</th>\n",
       "      <th>CaCodeCategory</th>\n",
       "    </tr>\n",
       "  </thead>\n",
       "  <tbody>\n",
       "    <tr>\n",
       "      <th>0</th>\n",
       "      <td>18.9</td>\n",
       "      <td>overall_life_satisfaction</td>\n",
       "      <td>0_to_6</td>\n",
       "      <td>total</td>\n",
       "      <td>variable_value_totals</td>\n",
       "    </tr>\n",
       "    <tr>\n",
       "      <th>1</th>\n",
       "      <td>19.0</td>\n",
       "      <td>overall_life_satisfaction</td>\n",
       "      <td>7</td>\n",
       "      <td>total</td>\n",
       "      <td>variable_value_totals</td>\n",
       "    </tr>\n",
       "    <tr>\n",
       "      <th>2</th>\n",
       "      <td>30.3</td>\n",
       "      <td>overall_life_satisfaction</td>\n",
       "      <td>8</td>\n",
       "      <td>total</td>\n",
       "      <td>variable_value_totals</td>\n",
       "    </tr>\n",
       "    <tr>\n",
       "      <th>3</th>\n",
       "      <td>14.9</td>\n",
       "      <td>overall_life_satisfaction</td>\n",
       "      <td>9</td>\n",
       "      <td>total</td>\n",
       "      <td>variable_value_totals</td>\n",
       "    </tr>\n",
       "    <tr>\n",
       "      <th>4</th>\n",
       "      <td>17.0</td>\n",
       "      <td>overall_life_satisfaction</td>\n",
       "      <td>10</td>\n",
       "      <td>total</td>\n",
       "      <td>variable_value_totals</td>\n",
       "    </tr>\n",
       "  </tbody>\n",
       "</table>\n",
       "</div>"
      ],
      "text/plain": [
       "   Estimate             VaCodeVariable VaCodeCategory CaCodeVariable  \\\n",
       "0      18.9  overall_life_satisfaction         0_to_6          total   \n",
       "1      19.0  overall_life_satisfaction              7          total   \n",
       "2      30.3  overall_life_satisfaction              8          total   \n",
       "3      14.9  overall_life_satisfaction              9          total   \n",
       "4      17.0  overall_life_satisfaction             10          total   \n",
       "\n",
       "          CaCodeCategory  \n",
       "0  variable_value_totals  \n",
       "1  variable_value_totals  \n",
       "2  variable_value_totals  \n",
       "3  variable_value_totals  \n",
       "4  variable_value_totals  "
      ]
     },
     "execution_count": 252,
     "metadata": {},
     "output_type": "execute_result"
    }
   ],
   "source": [
    "df.head()"
   ]
  },
  {
   "cell_type": "code",
   "execution_count": 253,
   "metadata": {},
   "outputs": [],
   "source": [
    "rankings = {\n",
    "    -1: ['crossvariable_value_totals_-_demographic_sub_totals'],\n",
    "    0: ['0_to_6', '7', 'not_enough_money', 'fair/poor', 'most/all_of_the_time', '0_to_4'],\n",
    "    1: ['8', 'only_just_enough_money', 'good', 'some_of_the_time', '5_to_6'],\n",
    "    2: ['9', 'enough_money', 'very_good', 'a_little_of_the_time', '7_to_8'],\n",
    "    3: ['10', 'more_than_enough_money','excellent', 'none_of_the_time', '9_to_10']\n",
    "}\n",
    "\n",
    "def get_key(x):\n",
    "    for k,v in rankings.items():\n",
    "        if x in v:\n",
    "            return k"
   ]
  },
  {
   "cell_type": "code",
   "execution_count": 254,
   "metadata": {},
   "outputs": [],
   "source": [
    "df['rankings'] = df['VaCodeCategory'].apply(lambda x: get_key(x))"
   ]
  },
  {
   "cell_type": "code",
   "execution_count": 255,
   "metadata": {},
   "outputs": [],
   "source": [
    "df['rankings'] = pd.Categorical(df['rankings'])"
   ]
  },
  {
   "cell_type": "code",
   "execution_count": 256,
   "metadata": {},
   "outputs": [
    {
     "data": {
      "text/html": [
       "<div>\n",
       "<style scoped>\n",
       "    .dataframe tbody tr th:only-of-type {\n",
       "        vertical-align: middle;\n",
       "    }\n",
       "\n",
       "    .dataframe tbody tr th {\n",
       "        vertical-align: top;\n",
       "    }\n",
       "\n",
       "    .dataframe thead th {\n",
       "        text-align: right;\n",
       "    }\n",
       "</style>\n",
       "<table border=\"1\" class=\"dataframe\">\n",
       "  <thead>\n",
       "    <tr style=\"text-align: right;\">\n",
       "      <th></th>\n",
       "      <th>Estimate</th>\n",
       "      <th>VaCodeVariable</th>\n",
       "      <th>VaCodeCategory</th>\n",
       "      <th>CaCodeVariable</th>\n",
       "      <th>CaCodeCategory</th>\n",
       "      <th>rankings</th>\n",
       "    </tr>\n",
       "  </thead>\n",
       "  <tbody>\n",
       "    <tr>\n",
       "      <th>0</th>\n",
       "      <td>18.9</td>\n",
       "      <td>overall_life_satisfaction</td>\n",
       "      <td>0_to_6</td>\n",
       "      <td>total</td>\n",
       "      <td>variable_value_totals</td>\n",
       "      <td>0</td>\n",
       "    </tr>\n",
       "    <tr>\n",
       "      <th>1</th>\n",
       "      <td>19.0</td>\n",
       "      <td>overall_life_satisfaction</td>\n",
       "      <td>7</td>\n",
       "      <td>total</td>\n",
       "      <td>variable_value_totals</td>\n",
       "      <td>0</td>\n",
       "    </tr>\n",
       "    <tr>\n",
       "      <th>2</th>\n",
       "      <td>30.3</td>\n",
       "      <td>overall_life_satisfaction</td>\n",
       "      <td>8</td>\n",
       "      <td>total</td>\n",
       "      <td>variable_value_totals</td>\n",
       "      <td>1</td>\n",
       "    </tr>\n",
       "    <tr>\n",
       "      <th>3</th>\n",
       "      <td>14.9</td>\n",
       "      <td>overall_life_satisfaction</td>\n",
       "      <td>9</td>\n",
       "      <td>total</td>\n",
       "      <td>variable_value_totals</td>\n",
       "      <td>2</td>\n",
       "    </tr>\n",
       "    <tr>\n",
       "      <th>4</th>\n",
       "      <td>17.0</td>\n",
       "      <td>overall_life_satisfaction</td>\n",
       "      <td>10</td>\n",
       "      <td>total</td>\n",
       "      <td>variable_value_totals</td>\n",
       "      <td>3</td>\n",
       "    </tr>\n",
       "    <tr>\n",
       "      <th>6</th>\n",
       "      <td>14.0</td>\n",
       "      <td>life_worthwhile</td>\n",
       "      <td>0_to_6</td>\n",
       "      <td>total</td>\n",
       "      <td>variable_value_totals</td>\n",
       "      <td>0</td>\n",
       "    </tr>\n",
       "    <tr>\n",
       "      <th>7</th>\n",
       "      <td>16.7</td>\n",
       "      <td>life_worthwhile</td>\n",
       "      <td>7</td>\n",
       "      <td>total</td>\n",
       "      <td>variable_value_totals</td>\n",
       "      <td>0</td>\n",
       "    </tr>\n",
       "    <tr>\n",
       "      <th>8</th>\n",
       "      <td>28.2</td>\n",
       "      <td>life_worthwhile</td>\n",
       "      <td>8</td>\n",
       "      <td>total</td>\n",
       "      <td>variable_value_totals</td>\n",
       "      <td>1</td>\n",
       "    </tr>\n",
       "    <tr>\n",
       "      <th>9</th>\n",
       "      <td>17.7</td>\n",
       "      <td>life_worthwhile</td>\n",
       "      <td>9</td>\n",
       "      <td>total</td>\n",
       "      <td>variable_value_totals</td>\n",
       "      <td>2</td>\n",
       "    </tr>\n",
       "    <tr>\n",
       "      <th>10</th>\n",
       "      <td>23.3</td>\n",
       "      <td>life_worthwhile</td>\n",
       "      <td>10</td>\n",
       "      <td>total</td>\n",
       "      <td>variable_value_totals</td>\n",
       "      <td>3</td>\n",
       "    </tr>\n",
       "  </tbody>\n",
       "</table>\n",
       "</div>"
      ],
      "text/plain": [
       "    Estimate             VaCodeVariable VaCodeCategory CaCodeVariable  \\\n",
       "0       18.9  overall_life_satisfaction         0_to_6          total   \n",
       "1       19.0  overall_life_satisfaction              7          total   \n",
       "2       30.3  overall_life_satisfaction              8          total   \n",
       "3       14.9  overall_life_satisfaction              9          total   \n",
       "4       17.0  overall_life_satisfaction             10          total   \n",
       "6       14.0            life_worthwhile         0_to_6          total   \n",
       "7       16.7            life_worthwhile              7          total   \n",
       "8       28.2            life_worthwhile              8          total   \n",
       "9       17.7            life_worthwhile              9          total   \n",
       "10      23.3            life_worthwhile             10          total   \n",
       "\n",
       "           CaCodeCategory rankings  \n",
       "0   variable_value_totals        0  \n",
       "1   variable_value_totals        0  \n",
       "2   variable_value_totals        1  \n",
       "3   variable_value_totals        2  \n",
       "4   variable_value_totals        3  \n",
       "6   variable_value_totals        0  \n",
       "7   variable_value_totals        0  \n",
       "8   variable_value_totals        1  \n",
       "9   variable_value_totals        2  \n",
       "10  variable_value_totals        3  "
      ]
     },
     "execution_count": 256,
     "metadata": {},
     "output_type": "execute_result"
    }
   ],
   "source": [
    "df.head(10)"
   ]
  },
  {
   "cell_type": "code",
   "execution_count": 257,
   "metadata": {},
   "outputs": [],
   "source": [
    "df.to_pickle('wellbeing_df.pickle')"
   ]
  },
  {
   "cell_type": "code",
   "execution_count": 44,
   "metadata": {},
   "outputs": [],
   "source": [
    "income_urban_rural = df[(df.VaCodeVariable == 'income_adequacy') & (df.CaCodeVariable == 'urban_/_rural')]"
   ]
  },
  {
   "cell_type": "code",
   "execution_count": 50,
   "metadata": {},
   "outputs": [
    {
     "data": {
      "text/plain": [
       "array(['total', 'lifestage', 'age_group', 'sex', 'labour_force_status',\n",
       "       'highest_qualification', 'household_income', 'personal_income',\n",
       "       'housing_tenure', 'family_type', 'migrant_status', 'ethnicity',\n",
       "       'region', 'urban_/_rural', 'disability_status', 'sexual_identity'],\n",
       "      dtype=object)"
      ]
     },
     "execution_count": 50,
     "metadata": {},
     "output_type": "execute_result"
    }
   ],
   "source": [
    "df['CaCodeVariable'].unique()"
   ]
  },
  {
   "cell_type": "code",
   "execution_count": 47,
   "metadata": {},
   "outputs": [
    {
     "data": {
      "image/png": "[encoded data removed]",
      "text/plain": [
       "<Figure size 1080x648 with 1 Axes>"
      ]
     },
     "metadata": {
      "needs_background": "light"
     },
     "output_type": "display_data"
    }
   ],
   "source": [
    "f, ax = plt.subplots(figsize=(15, 9))\n",
    "sns.barplot(x='VaCodeCategory', y='Estimate', hue='CaCodeCategory', data=income_urban_rural)\n",
    "plt.show()"
   ]
  },
  {
   "cell_type": "code",
   "execution_count": 51,
   "metadata": {},
   "outputs": [],
   "source": [
    "life_satisfaction_identity = df[(df.VaCodeVariable == 'overall_life_satisfaction') & (df.CaCodeVariable == 'sexual_identity')]"
   ]
  },
  {
   "cell_type": "code",
   "execution_count": 52,
   "metadata": {},
   "outputs": [
    {
     "data": {
      "image/png": "[encoded data removed]",
      "text/plain": [
       "<Figure size 1080x648 with 1 Axes>"
      ]
     },
     "metadata": {
      "needs_background": "light"
     },
     "output_type": "display_data"
    }
   ],
   "source": [
    "f, ax = plt.subplots(figsize=(15, 9))\n",
    "sns.barplot(x='VaCodeCategory', y='Estimate', hue='CaCodeCategory', data=life_satisfaction_identity)\n",
    "plt.show()"
   ]
  },
  {
   "cell_type": "code",
   "execution_count": 59,
   "metadata": {},
   "outputs": [],
   "source": [
    "income_gender = df[(df.VaCodeVariable == 'income_adequacy') & (df.CaCodeVariable == 'sex')]"
   ]
  },
  {
   "cell_type": "code",
   "execution_count": 60,
   "metadata": {},
   "outputs": [
    {
     "data": {
      "image/png": "[encoded data removed]",
      "text/plain": [
       "<Figure size 1080x648 with 1 Axes>"
      ]
     },
     "metadata": {
      "needs_background": "light"
     },
     "output_type": "display_data"
    }
   ],
   "source": [
    "f, ax = plt.subplots(figsize=(15, 9))\n",
    "sns.barplot(x='VaCodeCategory', y='Estimate', hue='CaCodeCategory', data=income_gender)\n",
    "plt.show()"
   ]
  },
  {
   "cell_type": "code",
   "execution_count": 102,
   "metadata": {},
   "outputs": [],
   "source": [
    "household_income = df[(df.CaCodeVariable == 'household_income')]"
   ]
  },
  {
   "cell_type": "code",
   "execution_count": 103,
   "metadata": {},
   "outputs": [],
   "source": [
    "household_income['CaCodeCategory'] = df['CaCodeCategory'].astype(str).str.replace(\"_\", \"\")"
   ]
  },
  {
   "cell_type": "code",
   "execution_count": 104,
   "metadata": {},
   "outputs": [
    {
     "data": {
      "text/plain": [
       "array(['$30,000orless', '$30,001–$70,000', '$70,001–$100,000',\n",
       "       '$100,001–$150,000', '$150,001ormore'], dtype=object)"
      ]
     },
     "execution_count": 104,
     "metadata": {},
     "output_type": "execute_result"
    }
   ],
   "source": [
    "household_income['CaCodeCategory'].unique()"
   ]
  },
  {
   "cell_type": "code",
   "execution_count": 110,
   "metadata": {},
   "outputs": [
    {
     "data": {
      "image/png": "[encoded data removed]",
      "text/plain": [
       "<Figure size 1080x1080 with 1 Axes>"
      ]
     },
     "metadata": {
      "needs_background": "light"
     },
     "output_type": "display_data"
    }
   ],
   "source": [
    "f, ax = plt.subplots(figsize=(15, 15))\n",
    "sns.barplot(x='VaCodeVariable', y='Estimate', hue='CaCodeCategory', data=household_income)\n",
    "plt.xticks(rotation=90)\n",
    "plt.show()"
   ]
  },
  {
   "cell_type": "code",
   "execution_count": 122,
   "metadata": {},
   "outputs": [
    {
     "data": {
      "text/html": [
       "<div>\n",
       "<style scoped>\n",
       "    .dataframe tbody tr th:only-of-type {\n",
       "        vertical-align: middle;\n",
       "    }\n",
       "\n",
       "    .dataframe tbody tr th {\n",
       "        vertical-align: top;\n",
       "    }\n",
       "\n",
       "    .dataframe thead th {\n",
       "        text-align: right;\n",
       "    }\n",
       "</style>\n",
       "<table border=\"1\" class=\"dataframe\">\n",
       "  <thead>\n",
       "    <tr style=\"text-align: right;\">\n",
       "      <th></th>\n",
       "      <th>Estimate</th>\n",
       "      <th>VaCodeVariable</th>\n",
       "      <th>VaCodeCategory</th>\n",
       "      <th>CaCodeVariable</th>\n",
       "      <th>CaCodeCategory</th>\n",
       "    </tr>\n",
       "  </thead>\n",
       "  <tbody>\n",
       "    <tr>\n",
       "      <th>0</th>\n",
       "      <td>18.9</td>\n",
       "      <td>overall_life_satisfaction</td>\n",
       "      <td>0_to_6</td>\n",
       "      <td>total</td>\n",
       "      <td>variable_value_totals</td>\n",
       "    </tr>\n",
       "    <tr>\n",
       "      <th>1</th>\n",
       "      <td>19.0</td>\n",
       "      <td>overall_life_satisfaction</td>\n",
       "      <td>7</td>\n",
       "      <td>total</td>\n",
       "      <td>variable_value_totals</td>\n",
       "    </tr>\n",
       "    <tr>\n",
       "      <th>2</th>\n",
       "      <td>30.3</td>\n",
       "      <td>overall_life_satisfaction</td>\n",
       "      <td>8</td>\n",
       "      <td>total</td>\n",
       "      <td>variable_value_totals</td>\n",
       "    </tr>\n",
       "    <tr>\n",
       "      <th>3</th>\n",
       "      <td>14.9</td>\n",
       "      <td>overall_life_satisfaction</td>\n",
       "      <td>9</td>\n",
       "      <td>total</td>\n",
       "      <td>variable_value_totals</td>\n",
       "    </tr>\n",
       "    <tr>\n",
       "      <th>4</th>\n",
       "      <td>17.0</td>\n",
       "      <td>overall_life_satisfaction</td>\n",
       "      <td>10</td>\n",
       "      <td>total</td>\n",
       "      <td>variable_value_totals</td>\n",
       "    </tr>\n",
       "  </tbody>\n",
       "</table>\n",
       "</div>"
      ],
      "text/plain": [
       "   Estimate             VaCodeVariable VaCodeCategory CaCodeVariable  \\\n",
       "0      18.9  overall_life_satisfaction         0_to_6          total   \n",
       "1      19.0  overall_life_satisfaction              7          total   \n",
       "2      30.3  overall_life_satisfaction              8          total   \n",
       "3      14.9  overall_life_satisfaction              9          total   \n",
       "4      17.0  overall_life_satisfaction             10          total   \n",
       "\n",
       "          CaCodeCategory  \n",
       "0  variable_value_totals  \n",
       "1  variable_value_totals  \n",
       "2  variable_value_totals  \n",
       "3  variable_value_totals  \n",
       "4  variable_value_totals  "
      ]
     },
     "execution_count": 122,
     "metadata": {},
     "output_type": "execute_result"
    }
   ],
   "source": [
    "df.head()"
   ]
  },
  {
   "cell_type": "code",
   "execution_count": 153,
   "metadata": {},
   "outputs": [
    {
     "data": {
      "text/plain": [
       "array(['$30,000orless', '$30,001–$70,000', '$70,001–$100,000',\n",
       "       '$100,001–$150,000', '$150,001ormore'], dtype=object)"
      ]
     },
     "execution_count": 153,
     "metadata": {},
     "output_type": "execute_result"
    }
   ],
   "source": [
    "household_income.CaCodeCategory.unique()"
   ]
  },
  {
   "cell_type": "code",
   "execution_count": 160,
   "metadata": {},
   "outputs": [],
   "source": [
    "test = df.pivot_table('Estimate', ['CaCodeVariable', 'VaCodeVariable', 'CaCodeCategory'], 'VaCodeCategory')"
   ]
  },
  {
   "cell_type": "code",
   "execution_count": 162,
   "metadata": {},
   "outputs": [],
   "source": [
    "df['VaCodeCategory'] = pd.Categorical(df['VaCodeCategory'])"
   ]
  },
  {
   "cell_type": "code",
   "execution_count": 164,
   "metadata": {},
   "outputs": [
    {
     "data": {
      "text/plain": [
       "[0_to_6, 7, 8, 9, 10, ..., 7_to_8, 9_to_10, very_comfortable/comfortable, very_easy/easy, crossvariable_value_totals_-_demographic_sub_t...]\n",
       "Length: 30\n",
       "Categories (30, object): [0_to_6, 7, 8, 9, ..., 9_to_10, very_comfortable/comfortable, very_easy/easy, crossvariable_value_totals_-_demographic_sub_t...]"
      ]
     },
     "execution_count": 164,
     "metadata": {},
     "output_type": "execute_result"
    }
   ],
   "source": [
    "df.VaCodeCategory.unique()"
   ]
  },
  {
   "cell_type": "code",
   "execution_count": null,
   "metadata": {},
   "outputs": [],
   "source": []
  },
  {
   "cell_type": "code",
   "execution_count": null,
   "metadata": {},
   "outputs": [],
   "source": []
  }
 ],
 "metadata": {
  "kernelspec": {
   "display_name": "Python 3",
   "language": "python",
   "name": "python3"
  },
  "language_info": {
   "codemirror_mode": {
    "name": "ipython",
    "version": 3
   },
   "file_extension": ".py",
   "mimetype": "text/x-python",
   "name": "python",
   "nbconvert_exporter": "python",
   "pygments_lexer": "ipython3",
   "version": "3.5.6"
  }
 },
 "nbformat": 4,
 "nbformat_minor": 2
}
