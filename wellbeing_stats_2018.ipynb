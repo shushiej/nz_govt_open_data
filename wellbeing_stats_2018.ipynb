{
 "cells": [
  {
   "cell_type": "code",
   "execution_count": 128,
   "metadata": {},
   "outputs": [],
   "source": [
    "import pandas as pd\n",
    "import numpy as np\n",
    "import seaborn as sns\n",
    "import matplotlib.pyplot as plt"
   ]
  },
  {
   "cell_type": "code",
   "execution_count": 76,
   "metadata": {},
   "outputs": [],
   "source": [
    "df = pd.read_csv('./DATA/wellbeing-statistics-2018-csv/wellbeing statistics 2018.csv')"
   ]
  },
  {
   "cell_type": "markdown",
   "metadata": {},
   "source": [
    "### Values for codes need to be unpacked from the .xls file"
   ]
  },
  {
   "cell_type": "code",
   "execution_count": 116,
   "metadata": {},
   "outputs": [],
   "source": [
    "df_means = df[(df['CACode'] == \"C01T\") & (df['VaCode'].str.contains(\"M\"))]"
   ]
  },
  {
   "cell_type": "code",
   "execution_count": 118,
   "metadata": {},
   "outputs": [],
   "source": [
    "VACodes = {\n",
    "    \"V01M\" : \"overall_life_satisfaction\",\n",
    "    \"V02M\" : \"life_worthwhile\",\n",
    "    \"V03M\" : \"family_wellbeing\",\n",
    "    \"V11M\" : \"fear_of_crime\",\n",
    "    \"V17M\" : \"trust_for_people\",\n",
    "    \"V18M\" : \"trust_for_courts\",\n",
    "    \"V19M\" : \"trust_for_education_system\",\n",
    "    \"V20M\" : \"trust_for_health_care\",\n",
    "    \"V21M\" : \"trust_for_media\",\n",
    "    \"V22M\" : \"trust_for_parliment\",\n",
    "    \"V23M\" : \"trust_for_police\"\n",
    "}\n",
    "\n",
    "def rename(x):\n",
    "    return VACodes[x]\n",
    "    "
   ]
  },
  {
   "cell_type": "code",
   "execution_count": 119,
   "metadata": {},
   "outputs": [
    {
     "name": "stderr",
     "output_type": "stream",
     "text": [
      "/Users/joshishushruth/anaconda3/lib/python3.5/site-packages/ipykernel_launcher.py:1: SettingWithCopyWarning: \n",
      "A value is trying to be set on a copy of a slice from a DataFrame.\n",
      "Try using .loc[row_indexer,col_indexer] = value instead\n",
      "\n",
      "See the caveats in the documentation: http://pandas.pydata.org/pandas-docs/stable/indexing.html#indexing-view-versus-copy\n",
      "  \"\"\"Entry point for launching an IPython kernel.\n"
     ]
    }
   ],
   "source": [
    "df_means['VA_Meaning'] = df_means['VaCode'].apply(rename)"
   ]
  },
  {
   "cell_type": "code",
   "execution_count": 132,
   "metadata": {},
   "outputs": [
    {
     "name": "stderr",
     "output_type": "stream",
     "text": [
      "/Users/joshishushruth/anaconda3/lib/python3.5/site-packages/ipykernel_launcher.py:1: SettingWithCopyWarning: \n",
      "A value is trying to be set on a copy of a slice from a DataFrame.\n",
      "Try using .loc[row_indexer,col_indexer] = value instead\n",
      "\n",
      "See the caveats in the documentation: http://pandas.pydata.org/pandas-docs/stable/indexing.html#indexing-view-versus-copy\n",
      "  \"\"\"Entry point for launching an IPython kernel.\n"
     ]
    }
   ],
   "source": [
    "df_means['Estimate'] = pd.to_numeric(df_means['Estimate'])"
   ]
  },
  {
   "cell_type": "code",
   "execution_count": 133,
   "metadata": {},
   "outputs": [
    {
     "data": {
      "image/png": "[encoded data removed]",
      "text/plain": [
       "<Figure size 1080x648 with 1 Axes>"
      ]
     },
     "metadata": {
      "needs_background": "light"
     },
     "output_type": "display_data"
    }
   ],
   "source": [
    "plt.subplots(figsize=(15, 9))\n",
    "plt.bar(df_means['VA_Meaning'], df_means[\"Estimate\"])\n",
    "plt.xticks(rotation=90)\n",
    "plt.show()"
   ]
  },
  {
   "cell_type": "code",
   "execution_count": 30,
   "metadata": {},
   "outputs": [],
   "source": [
    "codes = []\n",
    "for k,v in CACodes.items():\n",
    "    for code in v:\n",
    "        if code in list(df.CACode.values):\n",
    "            codes.append(k)\n",
    "df_new = pd.DataFrame(columns=list(set(codes)))"
   ]
  },
  {
   "cell_type": "code",
   "execution_count": 134,
   "metadata": {},
   "outputs": [],
   "source": [
    "CACodes = {\n",
    "    \"total\" : [\"C01T\"],\n",
    "    \"lifestage\" : [\"C02A\",\"C02B\",\"C02C\",\"C02B\"],\n",
    "    \"age_group\" : [\"C03A\",\"C03B\",\"C03C\",\"C03D\",\"C03E\",\"C03F\",\"C03G\"],\n",
    "    \"sex\" : [\"C04A\", \"C04B\"],\n",
    "    \"labour_force_status\" : [\"C05A\", \"C05B\", \"C05C\"],\n",
    "    \"highest_qualification\": [\"C06A\", \"C06B\", \"C06C\",  \"C06D\"],\n",
    "    \"household_income\" : [\"C07A\" ,\"C07B\", \"C07C\", \"C07D\",\"C07E\"],\n",
    "    \"personal_income\" : [\"C08A\", \"C08B\", \"C08C\"],\n",
    "    \"housing_tenure\" : [\"C09A\", \"C09B\"],\n",
    "    \"family_type\" : [\"C10A\", \"C10B\", \"C10C\", \"C10D\"],\n",
    "    \"migrant_status\" : [\"C11A\", \"C11B\", \"C11C\"],\n",
    "    \"ethnicity\" : [\"C12A\", \"C12B\", \"C12C\", \"C12D\"],\n",
    "    \"region\" : [\"C13A\", \"C13B\", \"C13C\", \"C13D\", \"C13E\", \"C13F\", \"C13G\", \"C13H\",  \"C13I\", \"C13J\", \"C13K\", \"C13L\"],\n",
    "    \"urban_rural\": [\"C14A\", \"C14B\",\"C14C\", \"C14D\", \"C14E\"],\n",
    "    \"disability_status\" : [\"C15A\", \"C15B\"],\n",
    "    \"sexual_identity\": [\"C16A\", \"C16B\", \"C16C\", \"C16D\"],\n",
    "    \"total_18+\" : [\"C16T\"]\n",
    "}\n",
    "\n",
    "CACodes_Values = {\n",
    "    \"lifestage\" : [\"15-24\", \"25–44\", \"45–64\", \"65+\"],\n",
    "    \"age_group\" : [\"15–24\", \"25–34\", \"35–44\", \"45–54\", \"55–64\", \"65–74\", \"75+\"],\n",
    "    \"sex\" : [\"male\", \"female\"],\n",
    "    \"labour_force_status\" : [\"Employed\", \"Unemployed\", \"Not in the labour force\"],\n",
    "    \"highest_qualification\" : [\"No qualification\", \"Level 1–4 certificate\", \"Level 5–6 diploma\", \"Level 7/ Bachelor degree and above\"],\n",
    "    \"household_income\" : [\"$30,000 or less\", \"$30,001– $70,000\", \"$70,001– $100,000\", \"$100,001– $150,000\",\"$150,001 or more\"],\n",
    "    \"personal_income\" : [\"$30,000 or less\", \"$30,001– $70,000\", \"$70,001 +\"],\n",
    "    \"housing_tenure\" : [\"Owner-occupied\", \"Not owner – occupied\"],\n",
    "    \"family_type\" : [\"Couple without child(ren)\", \"Couple with child(ren)\",\"One parent with child(ren)\",\"Not in a family nucleus\"],\n",
    "    \"migrant_status\" : [\"Born in NZ\",\"Long-term migrant\", \"Recent migrant\"],\n",
    "    \"ethnicity\" : [\"European\",\"Maori\", \"Pacific peoples\",\"Asian\"],\n",
    "    \"region\" : [\"Northland\", \"Auckland\", \"Waikato\", \"Bay of Plenty\", \"Gisborne\", \"Taranaki\", \"Whanganui\", \"Wellington\", \"Nelson/Tasman/Marlborough/West Coast\",\"Canterbury\", \"Otago\",\"Southland\"],\n",
    "    \"urban_rural\" : [\"Urban major\", \"Urban large\", \"Urban medium\", \"Urban small\",\"Rural/other\"],\n",
    "    \"disability_status\" : [\"Disabled\", \"Non - disabled\"],\n",
    "    \"sexual_identity\" : [\"Heterosexual or straight\", \"Gay or lesbian\", \"Bisexual\", \"Other Identities\"]\n",
    "}"
   ]
  }
 ],
 "metadata": {
  "kernelspec": {
   "display_name": "Python 3",
   "language": "python",
   "name": "python3"
  },
  "language_info": {
   "codemirror_mode": {
    "name": "ipython",
    "version": 3
   },
   "file_extension": ".py",
   "mimetype": "text/x-python",
   "name": "python",
   "nbconvert_exporter": "python",
   "pygments_lexer": "ipython3",
   "version": "3.5.6"
  }
 },
 "nbformat": 4,
 "nbformat_minor": 2
}
