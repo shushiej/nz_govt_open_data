{
 "cells": [
  {
   "cell_type": "code",
   "execution_count": 7,
   "metadata": {},
   "outputs": [],
   "source": [
    "import pandas as pd\n",
    "import numpy as np\n",
    "import pickle"
   ]
  },
  {
   "cell_type": "code",
   "execution_count": 80,
   "metadata": {},
   "outputs": [],
   "source": [
    "ca_codes = pd.read_csv(\"./DATA/wellbeing-statistics-2018-csv/metadata/wellbeing stats 2018 NZ - CA Codes.csv\")\n",
    "va_codes_std = pd.read_csv(\"./DATA/wellbeing-statistics-2018-csv/metadata/wellbeing stats 2018 NZ - Va Codes (Std).csv\")\n",
    "va_codes_env = pd.read_csv(\"./DATA/wellbeing-statistics-2018-csv/metadata/wellbeing stats 2018 NZ - Va Codes (Environment).csv\")"
   ]
  },
  {
   "cell_type": "code",
   "execution_count": 81,
   "metadata": {},
   "outputs": [],
   "source": [
    "def unpack_metadata(df, filename):\n",
    "    df.dropna(axis=0, inplace=True, how='all')\n",
    "    \n",
    "    df['Variable'] = df['Variable'].str.lower()\n",
    "    df['Variable'] = df['Variable'].str.replace(\" \", \"_\")\n",
    "    \n",
    "    df['Category'] = df['Category'].str.lower()\n",
    "    df['Category'] = df['Category'].str.replace(\" \", \"_\")\n",
    "    \n",
    "    df['Value'] = df[\"Variable\"] + \":\" + df[\"Category\"]\n",
    "    \n",
    "    key = df['Identifier'].tolist()\n",
    "    val = df['Value'].tolist()\n",
    "    \n",
    "    obj = dict(zip(key, val))\n",
    "    \n",
    "    with open(filename+\".pickle\", 'wb') as handle:\n",
    "        pickle.dump(obj, handle, protocol=pickle.HIGHEST_PROTOCOL)"
   ]
  },
  {
   "cell_type": "code",
   "execution_count": 82,
   "metadata": {},
   "outputs": [],
   "source": [
    "unpack_metadata(va_codes_std, 'VaCodes_Std')"
   ]
  },
  {
   "cell_type": "code",
   "execution_count": null,
   "metadata": {},
   "outputs": [],
   "source": [
    "unpack_metadata(ca_codes, 'CaCodes')"
   ]
  },
  {
   "cell_type": "code",
   "execution_count": null,
   "metadata": {},
   "outputs": [],
   "source": [
    "unpack_metadata(va_codes_env, 'VaCodes_Env')"
   ]
  },
  {
   "cell_type": "markdown",
   "metadata": {},
   "source": []
  },
  {
   "cell_type": "code",
   "execution_count": null,
   "metadata": {},
   "outputs": [],
   "source": []
  }
 ],
 "metadata": {
  "kernelspec": {
   "display_name": "Python 3",
   "language": "python",
   "name": "python3"
  },
  "language_info": {
   "codemirror_mode": {
    "name": "ipython",
    "version": 3
   },
   "file_extension": ".py",
   "mimetype": "text/x-python",
   "name": "python",
   "nbconvert_exporter": "python",
   "pygments_lexer": "ipython3",
   "version": "3.5.6"
  }
 },
 "nbformat": 4,
 "nbformat_minor": 2
}
