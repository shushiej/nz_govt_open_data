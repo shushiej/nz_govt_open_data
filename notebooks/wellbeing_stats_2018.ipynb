{
 "cells": [
  {
   "cell_type": "code",
   "execution_count": 124,
   "metadata": {},
   "outputs": [],
   "source": [
    "import pandas as pd\n",
    "import numpy as np\n",
    "import seaborn as sns\n",
    "import matplotlib.pyplot as plt\n",
    "import pickle\n",
    "import warnings\n",
    "warnings.filterwarnings('ignore')"
   ]
  },
  {
   "cell_type": "code",
   "execution_count": 125,
   "metadata": {},
   "outputs": [],
   "source": [
    "df = pd.read_csv('../DATA/wellbeing-statistics-2018-csv/wellbeing statistics 2018.csv')\n",
    "df = df[df['Estimate'] != 'S']"
   ]
  },
  {
   "cell_type": "code",
   "execution_count": 126,
   "metadata": {},
   "outputs": [
    {
     "data": {
      "text/html": [
       "<div>\n",
       "<style scoped>\n",
       "    .dataframe tbody tr th:only-of-type {\n",
       "        vertical-align: middle;\n",
       "    }\n",
       "\n",
       "    .dataframe tbody tr th {\n",
       "        vertical-align: top;\n",
       "    }\n",
       "\n",
       "    .dataframe thead th {\n",
       "        text-align: right;\n",
       "    }\n",
       "</style>\n",
       "<table border=\"1\" class=\"dataframe\">\n",
       "  <thead>\n",
       "    <tr style=\"text-align: right;\">\n",
       "      <th></th>\n",
       "      <th>CACode</th>\n",
       "      <th>VaCode</th>\n",
       "      <th>Estimate</th>\n",
       "      <th>ASE</th>\n",
       "      <th>Flag</th>\n",
       "    </tr>\n",
       "  </thead>\n",
       "  <tbody>\n",
       "    <tr>\n",
       "      <th>0</th>\n",
       "      <td>C01T</td>\n",
       "      <td>V01A</td>\n",
       "      <td>18.9</td>\n",
       "      <td>0.9</td>\n",
       "      <td>NaN</td>\n",
       "    </tr>\n",
       "    <tr>\n",
       "      <th>1</th>\n",
       "      <td>C01T</td>\n",
       "      <td>V01B</td>\n",
       "      <td>19</td>\n",
       "      <td>1.1</td>\n",
       "      <td>NaN</td>\n",
       "    </tr>\n",
       "    <tr>\n",
       "      <th>2</th>\n",
       "      <td>C01T</td>\n",
       "      <td>V01C</td>\n",
       "      <td>30.3</td>\n",
       "      <td>1.0</td>\n",
       "      <td>NaN</td>\n",
       "    </tr>\n",
       "    <tr>\n",
       "      <th>3</th>\n",
       "      <td>C01T</td>\n",
       "      <td>V01D</td>\n",
       "      <td>14.9</td>\n",
       "      <td>1.0</td>\n",
       "      <td>NaN</td>\n",
       "    </tr>\n",
       "    <tr>\n",
       "      <th>4</th>\n",
       "      <td>C01T</td>\n",
       "      <td>V01E</td>\n",
       "      <td>17</td>\n",
       "      <td>1.0</td>\n",
       "      <td>NaN</td>\n",
       "    </tr>\n",
       "  </tbody>\n",
       "</table>\n",
       "</div>"
      ],
      "text/plain": [
       "  CACode VaCode Estimate  ASE Flag\n",
       "0   C01T   V01A     18.9  0.9  NaN\n",
       "1   C01T   V01B       19  1.1  NaN\n",
       "2   C01T   V01C     30.3  1.0  NaN\n",
       "3   C01T   V01D     14.9  1.0  NaN\n",
       "4   C01T   V01E       17  1.0  NaN"
      ]
     },
     "execution_count": 126,
     "metadata": {},
     "output_type": "execute_result"
    }
   ],
   "source": [
    "df.head()"
   ]
  },
  {
   "cell_type": "markdown",
   "metadata": {},
   "source": [
    "### Unpack the CACodes and VACode Values into Dataframe"
   ]
  },
  {
   "cell_type": "code",
   "execution_count": 3,
   "metadata": {},
   "outputs": [],
   "source": [
    "with open('../DATA/pickle_files/CaCodes.pickle', 'rb') as handle:\n",
    "    CaCodes = pickle.load(handle)"
   ]
  },
  {
   "cell_type": "code",
   "execution_count": 4,
   "metadata": {},
   "outputs": [],
   "source": [
    "with open('../DATA/pickle_files/VaCodes_Std.pickle', 'rb') as handle:\n",
    "    VaCodes = pickle.load(handle)"
   ]
  },
  {
   "cell_type": "code",
   "execution_count": 5,
   "metadata": {},
   "outputs": [],
   "source": [
    "df['CaCode_Decoded'] = df['CACode'].apply(lambda x: CaCodes[x])"
   ]
  },
  {
   "cell_type": "code",
   "execution_count": 6,
   "metadata": {},
   "outputs": [],
   "source": [
    "df['VaCode_Decoded'] = df['VaCode'].apply(lambda x: VaCodes[x])"
   ]
  },
  {
   "cell_type": "code",
   "execution_count": 7,
   "metadata": {},
   "outputs": [],
   "source": [
    "df = df[(~df.VaCode_Decoded.str.contains(\"safety\")) & (~df.VaCode_Decoded.str.contains(\"social\")) & \n",
    "        (~df.VaCode_Decoded.str.contains(\"acceptance\")) & \n",
    "        (~df.VaCode_Decoded.str.contains(\"security\")) & \n",
    "       (~df.VaCode_Decoded.str.contains(\"express\"))]"
   ]
  },
  {
   "cell_type": "code",
   "execution_count": 8,
   "metadata": {},
   "outputs": [
    {
     "data": {
      "text/html": [
       "<div>\n",
       "<style scoped>\n",
       "    .dataframe tbody tr th:only-of-type {\n",
       "        vertical-align: middle;\n",
       "    }\n",
       "\n",
       "    .dataframe tbody tr th {\n",
       "        vertical-align: top;\n",
       "    }\n",
       "\n",
       "    .dataframe thead th {\n",
       "        text-align: right;\n",
       "    }\n",
       "</style>\n",
       "<table border=\"1\" class=\"dataframe\">\n",
       "  <thead>\n",
       "    <tr style=\"text-align: right;\">\n",
       "      <th></th>\n",
       "      <th>ASE</th>\n",
       "    </tr>\n",
       "  </thead>\n",
       "  <tbody>\n",
       "    <tr>\n",
       "      <th>count</th>\n",
       "      <td>4741.000000</td>\n",
       "    </tr>\n",
       "    <tr>\n",
       "      <th>mean</th>\n",
       "      <td>2.551888</td>\n",
       "    </tr>\n",
       "    <tr>\n",
       "      <th>std</th>\n",
       "      <td>2.311434</td>\n",
       "    </tr>\n",
       "    <tr>\n",
       "      <th>min</th>\n",
       "      <td>0.000000</td>\n",
       "    </tr>\n",
       "    <tr>\n",
       "      <th>25%</th>\n",
       "      <td>1.200000</td>\n",
       "    </tr>\n",
       "    <tr>\n",
       "      <th>50%</th>\n",
       "      <td>2.100000</td>\n",
       "    </tr>\n",
       "    <tr>\n",
       "      <th>75%</th>\n",
       "      <td>3.300000</td>\n",
       "    </tr>\n",
       "    <tr>\n",
       "      <th>max</th>\n",
       "      <td>16.800000</td>\n",
       "    </tr>\n",
       "  </tbody>\n",
       "</table>\n",
       "</div>"
      ],
      "text/plain": [
       "               ASE\n",
       "count  4741.000000\n",
       "mean      2.551888\n",
       "std       2.311434\n",
       "min       0.000000\n",
       "25%       1.200000\n",
       "50%       2.100000\n",
       "75%       3.300000\n",
       "max      16.800000"
      ]
     },
     "execution_count": 8,
     "metadata": {},
     "output_type": "execute_result"
    }
   ],
   "source": [
    "df.describe()"
   ]
  },
  {
   "cell_type": "code",
   "execution_count": 9,
   "metadata": {},
   "outputs": [],
   "source": [
    "new_va = df[\"VaCode_Decoded\"].str.split(\":\", n = 1, expand = True) \n",
    "df['VaCodeVariable'] = new_va[0]\n",
    "df['VaCodeCategory'] = new_va[1]"
   ]
  },
  {
   "cell_type": "code",
   "execution_count": 10,
   "metadata": {},
   "outputs": [],
   "source": [
    "new_ca = df[\"CaCode_Decoded\"].str.split(\":\", n = 1, expand = True) \n",
    "df['CaCodeVariable'] = new_ca[0]\n",
    "df['CaCodeCategory'] = new_ca[1]"
   ]
  },
  {
   "cell_type": "code",
   "execution_count": 11,
   "metadata": {},
   "outputs": [],
   "source": [
    "df.drop(columns=['CACode', 'VaCode', 'ASE', 'Flag', 'CaCode_Decoded', 'VaCode_Decoded'], axis=1, inplace=True)"
   ]
  },
  {
   "cell_type": "code",
   "execution_count": 12,
   "metadata": {},
   "outputs": [],
   "source": [
    "df['Estimate'] = pd.to_numeric(df['Estimate'])"
   ]
  },
  {
   "cell_type": "code",
   "execution_count": 13,
   "metadata": {},
   "outputs": [],
   "source": [
    "df['CaCodeVariable'] = df['CaCodeVariable'].str.replace(\"none\", \"total\")"
   ]
  },
  {
   "cell_type": "code",
   "execution_count": 14,
   "metadata": {},
   "outputs": [],
   "source": [
    "df = df[df.VaCodeCategory != 'mean_rating'] #we dont need the mean_rating variables, because we can calculate it ourselves"
   ]
  },
  {
   "cell_type": "markdown",
   "metadata": {},
   "source": [
    "### The Unpacked DataFrame"
   ]
  },
  {
   "cell_type": "code",
   "execution_count": 15,
   "metadata": {},
   "outputs": [
    {
     "data": {
      "text/html": [
       "<div>\n",
       "<style scoped>\n",
       "    .dataframe tbody tr th:only-of-type {\n",
       "        vertical-align: middle;\n",
       "    }\n",
       "\n",
       "    .dataframe tbody tr th {\n",
       "        vertical-align: top;\n",
       "    }\n",
       "\n",
       "    .dataframe thead th {\n",
       "        text-align: right;\n",
       "    }\n",
       "</style>\n",
       "<table border=\"1\" class=\"dataframe\">\n",
       "  <thead>\n",
       "    <tr style=\"text-align: right;\">\n",
       "      <th></th>\n",
       "      <th>Estimate</th>\n",
       "      <th>VaCodeVariable</th>\n",
       "      <th>VaCodeCategory</th>\n",
       "      <th>CaCodeVariable</th>\n",
       "      <th>CaCodeCategory</th>\n",
       "    </tr>\n",
       "  </thead>\n",
       "  <tbody>\n",
       "    <tr>\n",
       "      <th>0</th>\n",
       "      <td>18.9</td>\n",
       "      <td>overall_life_satisfaction</td>\n",
       "      <td>0_to_6</td>\n",
       "      <td>total</td>\n",
       "      <td>variable_value_totals</td>\n",
       "    </tr>\n",
       "    <tr>\n",
       "      <th>1</th>\n",
       "      <td>19.0</td>\n",
       "      <td>overall_life_satisfaction</td>\n",
       "      <td>7</td>\n",
       "      <td>total</td>\n",
       "      <td>variable_value_totals</td>\n",
       "    </tr>\n",
       "    <tr>\n",
       "      <th>2</th>\n",
       "      <td>30.3</td>\n",
       "      <td>overall_life_satisfaction</td>\n",
       "      <td>8</td>\n",
       "      <td>total</td>\n",
       "      <td>variable_value_totals</td>\n",
       "    </tr>\n",
       "    <tr>\n",
       "      <th>3</th>\n",
       "      <td>14.9</td>\n",
       "      <td>overall_life_satisfaction</td>\n",
       "      <td>9</td>\n",
       "      <td>total</td>\n",
       "      <td>variable_value_totals</td>\n",
       "    </tr>\n",
       "    <tr>\n",
       "      <th>4</th>\n",
       "      <td>17.0</td>\n",
       "      <td>overall_life_satisfaction</td>\n",
       "      <td>10</td>\n",
       "      <td>total</td>\n",
       "      <td>variable_value_totals</td>\n",
       "    </tr>\n",
       "  </tbody>\n",
       "</table>\n",
       "</div>"
      ],
      "text/plain": [
       "   Estimate             VaCodeVariable VaCodeCategory CaCodeVariable  \\\n",
       "0      18.9  overall_life_satisfaction         0_to_6          total   \n",
       "1      19.0  overall_life_satisfaction              7          total   \n",
       "2      30.3  overall_life_satisfaction              8          total   \n",
       "3      14.9  overall_life_satisfaction              9          total   \n",
       "4      17.0  overall_life_satisfaction             10          total   \n",
       "\n",
       "          CaCodeCategory  \n",
       "0  variable_value_totals  \n",
       "1  variable_value_totals  \n",
       "2  variable_value_totals  \n",
       "3  variable_value_totals  \n",
       "4  variable_value_totals  "
      ]
     },
     "execution_count": 15,
     "metadata": {},
     "output_type": "execute_result"
    }
   ],
   "source": [
    "df.head()"
   ]
  },
  {
   "cell_type": "markdown",
   "metadata": {},
   "source": [
    "### Standarise Rankings\n",
    "Since there are so many different kinds of rankings used in the VACodes, we need a way to standardise them so we can plot them against each other."
   ]
  },
  {
   "cell_type": "code",
   "execution_count": 16,
   "metadata": {},
   "outputs": [],
   "source": [
    "rankings = {\n",
    "    -1: ['crossvariable_value_totals_-_demographic_sub_totals'],\n",
    "    'poor': ['0_to_6', '7', 'not_enough_money', 'fair/poor', 'most/all_of_the_time', '0_to_4'],\n",
    "    'good': ['8', 'only_just_enough_money', 'good', 'some_of_the_time', '5_to_6'],\n",
    "    'very good': ['9', 'enough_money', 'very_good', 'a_little_of_the_time', '7_to_8'],\n",
    "    'excellent': ['10', 'more_than_enough_money','excellent', 'none_of_the_time', '9_to_10']\n",
    "}\n",
    "\n",
    "def get_key(x):\n",
    "    for k,v in rankings.items():\n",
    "        if x in v:\n",
    "            return k"
   ]
  },
  {
   "cell_type": "code",
   "execution_count": 17,
   "metadata": {},
   "outputs": [],
   "source": [
    "df['rankings'] = df['VaCodeCategory'].apply(lambda x: get_key(x))"
   ]
  },
  {
   "cell_type": "code",
   "execution_count": 18,
   "metadata": {},
   "outputs": [],
   "source": [
    "df['rankings'] = pd.Categorical(df['rankings'])"
   ]
  },
  {
   "cell_type": "code",
   "execution_count": 19,
   "metadata": {},
   "outputs": [],
   "source": [
    "df.to_pickle('wellbeing_df.pickle')"
   ]
  },
  {
   "cell_type": "code",
   "execution_count": 20,
   "metadata": {},
   "outputs": [],
   "source": [
    "life_satisfaction_identity = df[(df.VaCodeVariable == 'overall_life_satisfaction') & (df.CaCodeVariable == 'sexual_identity')]"
   ]
  },
  {
   "cell_type": "markdown",
   "metadata": {},
   "source": [
    "### A Plot of all the VACode Rankings"
   ]
  },
  {
   "cell_type": "code",
   "execution_count": 21,
   "metadata": {},
   "outputs": [
    {
     "data": {
      "image/png": "[encoded data removed]",
      "text/plain": [
       "<Figure size 1080x648 with 1 Axes>"
      ]
     },
     "metadata": {
      "needs_background": "light"
     },
     "output_type": "display_data"
    }
   ],
   "source": [
    "f, ax = plt.subplots(figsize=(15, 9))\n",
    "g = sns.barplot(x='VaCodeVariable', y=\"Estimate\", hue='rankings', data=df, hue_order=['poor', 'good', 'very good', 'excellent'])\n",
    "plt.xticks(rotation=90)\n",
    "plt.show()"
   ]
  },
  {
   "cell_type": "markdown",
   "metadata": {},
   "source": [
    "### Create Pivot Table\n",
    "Create a Pivot table, so we can retreive any CACode Mapped to any VACode without any complexity. "
   ]
  },
  {
   "cell_type": "code",
   "execution_count": 22,
   "metadata": {},
   "outputs": [],
   "source": [
    "test = df.pivot_table('Estimate', ['VaCodeVariable', 'CaCodeVariable', 'CaCodeCategory'], 'rankings')"
   ]
  },
  {
   "cell_type": "code",
   "execution_count": 23,
   "metadata": {},
   "outputs": [],
   "source": [
    "new_test = test.T"
   ]
  },
  {
   "cell_type": "markdown",
   "metadata": {},
   "source": [
    "### An Example\n",
    "\n",
    "The following is an example of getting the CACode `household_income` mapped aganist the VACode `family_wellbeing`"
   ]
  },
  {
   "cell_type": "code",
   "execution_count": 24,
   "metadata": {},
   "outputs": [],
   "source": [
    "fm = new_test['family_wellbeing']['household_income']"
   ]
  },
  {
   "cell_type": "code",
   "execution_count": 111,
   "metadata": {},
   "outputs": [],
   "source": [
    "wellbeign_region = new_test['family_wellbeing']['region']"
   ]
  },
  {
   "cell_type": "code",
   "execution_count": 112,
   "metadata": {},
   "outputs": [],
   "source": [
    "df = wellbeign_region.reset_index().T"
   ]
  },
  {
   "cell_type": "code",
   "execution_count": 113,
   "metadata": {},
   "outputs": [],
   "source": [
    "df = df[1:]"
   ]
  },
  {
   "cell_type": "code",
   "execution_count": 114,
   "metadata": {},
   "outputs": [],
   "source": [
    "df.drop(columns=0, inplace=True)"
   ]
  },
  {
   "cell_type": "markdown",
   "metadata": {},
   "source": [
    "### Ready to Tableau Public\n",
    "This Dataframe is now ready to be used in Tableau or any other charting library. "
   ]
  },
  {
   "cell_type": "code",
   "execution_count": 115,
   "metadata": {},
   "outputs": [
    {
     "data": {
      "text/html": [
       "<div>\n",
       "<style scoped>\n",
       "    .dataframe tbody tr th:only-of-type {\n",
       "        vertical-align: middle;\n",
       "    }\n",
       "\n",
       "    .dataframe tbody tr th {\n",
       "        vertical-align: top;\n",
       "    }\n",
       "\n",
       "    .dataframe thead th {\n",
       "        text-align: right;\n",
       "    }\n",
       "</style>\n",
       "<table border=\"1\" class=\"dataframe\">\n",
       "  <thead>\n",
       "    <tr style=\"text-align: right;\">\n",
       "      <th></th>\n",
       "      <th>1</th>\n",
       "      <th>2</th>\n",
       "      <th>3</th>\n",
       "      <th>4</th>\n",
       "    </tr>\n",
       "    <tr>\n",
       "      <th>CaCodeCategory</th>\n",
       "      <th></th>\n",
       "      <th></th>\n",
       "      <th></th>\n",
       "      <th></th>\n",
       "    </tr>\n",
       "  </thead>\n",
       "  <tbody>\n",
       "    <tr>\n",
       "      <th>auckland</th>\n",
       "      <td>16.7</td>\n",
       "      <td>33.7</td>\n",
       "      <td>16.5</td>\n",
       "      <td>16.6</td>\n",
       "    </tr>\n",
       "    <tr>\n",
       "      <th>bay_of_plenty</th>\n",
       "      <td>15.6</td>\n",
       "      <td>29.4</td>\n",
       "      <td>21.25</td>\n",
       "      <td>12.5</td>\n",
       "    </tr>\n",
       "    <tr>\n",
       "      <th>canterbury</th>\n",
       "      <td>17.3</td>\n",
       "      <td>30.8</td>\n",
       "      <td>17.7</td>\n",
       "      <td>16.5</td>\n",
       "    </tr>\n",
       "    <tr>\n",
       "      <th>gisborne_/_hawkes_bay</th>\n",
       "      <td>18.4</td>\n",
       "      <td>26.3</td>\n",
       "      <td>18.95</td>\n",
       "      <td>17.4</td>\n",
       "    </tr>\n",
       "    <tr>\n",
       "      <th>manawatu_/_whanganui</th>\n",
       "      <td>17.2</td>\n",
       "      <td>26.8</td>\n",
       "      <td>20.7</td>\n",
       "      <td>14.6</td>\n",
       "    </tr>\n",
       "    <tr>\n",
       "      <th>nelson/tasman/marlborough/west_coast</th>\n",
       "      <td>18.2</td>\n",
       "      <td>32.7</td>\n",
       "      <td>15.1</td>\n",
       "      <td>18.9</td>\n",
       "    </tr>\n",
       "    <tr>\n",
       "      <th>northland</th>\n",
       "      <td>18.4</td>\n",
       "      <td>30.4</td>\n",
       "      <td>20.7</td>\n",
       "      <td>9.9</td>\n",
       "    </tr>\n",
       "    <tr>\n",
       "      <th>otago</th>\n",
       "      <td>16.2</td>\n",
       "      <td>33.9</td>\n",
       "      <td>17.15</td>\n",
       "      <td>15.7</td>\n",
       "    </tr>\n",
       "    <tr>\n",
       "      <th>southland</th>\n",
       "      <td>21.3</td>\n",
       "      <td>28.8</td>\n",
       "      <td>15.7</td>\n",
       "      <td>18.5</td>\n",
       "    </tr>\n",
       "    <tr>\n",
       "      <th>taranaki</th>\n",
       "      <td>20.5</td>\n",
       "      <td>23.1</td>\n",
       "      <td>17.35</td>\n",
       "      <td>21.7</td>\n",
       "    </tr>\n",
       "    <tr>\n",
       "      <th>waikato</th>\n",
       "      <td>21.4</td>\n",
       "      <td>28.8</td>\n",
       "      <td>17.15</td>\n",
       "      <td>15.5</td>\n",
       "    </tr>\n",
       "    <tr>\n",
       "      <th>wellington</th>\n",
       "      <td>18</td>\n",
       "      <td>29.8</td>\n",
       "      <td>18.35</td>\n",
       "      <td>15.5</td>\n",
       "    </tr>\n",
       "  </tbody>\n",
       "</table>\n",
       "</div>"
      ],
      "text/plain": [
       "                                         1     2      3     4\n",
       "CaCodeCategory                                               \n",
       "auckland                              16.7  33.7   16.5  16.6\n",
       "bay_of_plenty                         15.6  29.4  21.25  12.5\n",
       "canterbury                            17.3  30.8   17.7  16.5\n",
       "gisborne_/_hawkes_bay                 18.4  26.3  18.95  17.4\n",
       "manawatu_/_whanganui                  17.2  26.8   20.7  14.6\n",
       "nelson/tasman/marlborough/west_coast  18.2  32.7   15.1  18.9\n",
       "northland                             18.4  30.4   20.7   9.9\n",
       "otago                                 16.2  33.9  17.15  15.7\n",
       "southland                             21.3  28.8   15.7  18.5\n",
       "taranaki                              20.5  23.1  17.35  21.7\n",
       "waikato                               21.4  28.8  17.15  15.5\n",
       "wellington                              18  29.8  18.35  15.5"
      ]
     },
     "execution_count": 115,
     "metadata": {},
     "output_type": "execute_result"
    }
   ],
   "source": [
    "df"
   ]
  },
  {
   "cell_type": "code",
   "execution_count": 118,
   "metadata": {},
   "outputs": [],
   "source": [
    "df.rename(columns={'CaCodeCategory' : 'region', 1 : 'excellent', 2 : 'good', 3 : 'poor', 4 : 'very_good'}, inplace=True)"
   ]
  },
  {
   "cell_type": "code",
   "execution_count": 120,
   "metadata": {},
   "outputs": [],
   "source": [
    "df['av_rating'] = ((((df['excellent'] / 100) * 4) + ((df['very_good'] / 100) * 3) + ((df['good'] / 100) * 2) + ((df['poor'] / 100) * 1)) / 4) * 100"
   ]
  },
  {
   "cell_type": "code",
   "execution_count": 121,
   "metadata": {},
   "outputs": [
    {
     "data": {
      "text/html": [
       "<div>\n",
       "<style scoped>\n",
       "    .dataframe tbody tr th:only-of-type {\n",
       "        vertical-align: middle;\n",
       "    }\n",
       "\n",
       "    .dataframe tbody tr th {\n",
       "        vertical-align: top;\n",
       "    }\n",
       "\n",
       "    .dataframe thead th {\n",
       "        text-align: right;\n",
       "    }\n",
       "</style>\n",
       "<table border=\"1\" class=\"dataframe\">\n",
       "  <thead>\n",
       "    <tr style=\"text-align: right;\">\n",
       "      <th></th>\n",
       "      <th>region</th>\n",
       "      <th>excellent</th>\n",
       "      <th>good</th>\n",
       "      <th>poor</th>\n",
       "      <th>very_good</th>\n",
       "      <th>av_rating</th>\n",
       "    </tr>\n",
       "  </thead>\n",
       "  <tbody>\n",
       "    <tr>\n",
       "      <th>0</th>\n",
       "      <td>auckland</td>\n",
       "      <td>16.7</td>\n",
       "      <td>33.7</td>\n",
       "      <td>16.5</td>\n",
       "      <td>16.6</td>\n",
       "      <td>50.125</td>\n",
       "    </tr>\n",
       "    <tr>\n",
       "      <th>1</th>\n",
       "      <td>bay_of_plenty</td>\n",
       "      <td>15.6</td>\n",
       "      <td>29.4</td>\n",
       "      <td>21.25</td>\n",
       "      <td>12.5</td>\n",
       "      <td>44.9875</td>\n",
       "    </tr>\n",
       "    <tr>\n",
       "      <th>2</th>\n",
       "      <td>canterbury</td>\n",
       "      <td>17.3</td>\n",
       "      <td>30.8</td>\n",
       "      <td>17.7</td>\n",
       "      <td>16.5</td>\n",
       "      <td>49.5</td>\n",
       "    </tr>\n",
       "    <tr>\n",
       "      <th>3</th>\n",
       "      <td>gisborne_/_hawkes_bay</td>\n",
       "      <td>18.4</td>\n",
       "      <td>26.3</td>\n",
       "      <td>18.95</td>\n",
       "      <td>17.4</td>\n",
       "      <td>49.3375</td>\n",
       "    </tr>\n",
       "    <tr>\n",
       "      <th>4</th>\n",
       "      <td>manawatu_/_whanganui</td>\n",
       "      <td>17.2</td>\n",
       "      <td>26.8</td>\n",
       "      <td>20.7</td>\n",
       "      <td>14.6</td>\n",
       "      <td>46.725</td>\n",
       "    </tr>\n",
       "    <tr>\n",
       "      <th>5</th>\n",
       "      <td>nelson/tasman/marlborough/west_coast</td>\n",
       "      <td>18.2</td>\n",
       "      <td>32.7</td>\n",
       "      <td>15.1</td>\n",
       "      <td>18.9</td>\n",
       "      <td>52.5</td>\n",
       "    </tr>\n",
       "    <tr>\n",
       "      <th>6</th>\n",
       "      <td>northland</td>\n",
       "      <td>18.4</td>\n",
       "      <td>30.4</td>\n",
       "      <td>20.7</td>\n",
       "      <td>9.9</td>\n",
       "      <td>46.2</td>\n",
       "    </tr>\n",
       "    <tr>\n",
       "      <th>7</th>\n",
       "      <td>otago</td>\n",
       "      <td>16.2</td>\n",
       "      <td>33.9</td>\n",
       "      <td>17.15</td>\n",
       "      <td>15.7</td>\n",
       "      <td>49.2125</td>\n",
       "    </tr>\n",
       "    <tr>\n",
       "      <th>8</th>\n",
       "      <td>southland</td>\n",
       "      <td>21.3</td>\n",
       "      <td>28.8</td>\n",
       "      <td>15.7</td>\n",
       "      <td>18.5</td>\n",
       "      <td>53.5</td>\n",
       "    </tr>\n",
       "    <tr>\n",
       "      <th>9</th>\n",
       "      <td>taranaki</td>\n",
       "      <td>20.5</td>\n",
       "      <td>23.1</td>\n",
       "      <td>17.35</td>\n",
       "      <td>21.7</td>\n",
       "      <td>52.6625</td>\n",
       "    </tr>\n",
       "    <tr>\n",
       "      <th>10</th>\n",
       "      <td>waikato</td>\n",
       "      <td>21.4</td>\n",
       "      <td>28.8</td>\n",
       "      <td>17.15</td>\n",
       "      <td>15.5</td>\n",
       "      <td>51.7125</td>\n",
       "    </tr>\n",
       "    <tr>\n",
       "      <th>11</th>\n",
       "      <td>wellington</td>\n",
       "      <td>18</td>\n",
       "      <td>29.8</td>\n",
       "      <td>18.35</td>\n",
       "      <td>15.5</td>\n",
       "      <td>49.1125</td>\n",
       "    </tr>\n",
       "  </tbody>\n",
       "</table>\n",
       "</div>"
      ],
      "text/plain": [
       "                                  region excellent  good   poor very_good  \\\n",
       "0                               auckland      16.7  33.7   16.5      16.6   \n",
       "1                          bay_of_plenty      15.6  29.4  21.25      12.5   \n",
       "2                             canterbury      17.3  30.8   17.7      16.5   \n",
       "3                  gisborne_/_hawkes_bay      18.4  26.3  18.95      17.4   \n",
       "4                   manawatu_/_whanganui      17.2  26.8   20.7      14.6   \n",
       "5   nelson/tasman/marlborough/west_coast      18.2  32.7   15.1      18.9   \n",
       "6                              northland      18.4  30.4   20.7       9.9   \n",
       "7                                  otago      16.2  33.9  17.15      15.7   \n",
       "8                              southland      21.3  28.8   15.7      18.5   \n",
       "9                               taranaki      20.5  23.1  17.35      21.7   \n",
       "10                               waikato      21.4  28.8  17.15      15.5   \n",
       "11                            wellington        18  29.8  18.35      15.5   \n",
       "\n",
       "   av_rating  \n",
       "0     50.125  \n",
       "1    44.9875  \n",
       "2       49.5  \n",
       "3    49.3375  \n",
       "4     46.725  \n",
       "5       52.5  \n",
       "6       46.2  \n",
       "7    49.2125  \n",
       "8       53.5  \n",
       "9    52.6625  \n",
       "10   51.7125  \n",
       "11   49.1125  "
      ]
     },
     "execution_count": 121,
     "metadata": {},
     "output_type": "execute_result"
    }
   ],
   "source": [
    "df"
   ]
  },
  {
   "cell_type": "code",
   "execution_count": 123,
   "metadata": {},
   "outputs": [],
   "source": [
    "df.to_json(\"../JSON_DATA/region_wellbeing.json\", orient='table')"
   ]
  },
  {
   "cell_type": "code",
   "execution_count": null,
   "metadata": {},
   "outputs": [],
   "source": []
  }
 ],
 "metadata": {
  "kernelspec": {
   "display_name": "Python 3",
   "language": "python",
   "name": "python3"
  },
  "language_info": {
   "codemirror_mode": {
    "name": "ipython",
    "version": 3
   },
   "file_extension": ".py",
   "mimetype": "text/x-python",
   "name": "python",
   "nbconvert_exporter": "python",
   "pygments_lexer": "ipython3",
   "version": "3.5.6"
  }
 },
 "nbformat": 4,
 "nbformat_minor": 2
}
