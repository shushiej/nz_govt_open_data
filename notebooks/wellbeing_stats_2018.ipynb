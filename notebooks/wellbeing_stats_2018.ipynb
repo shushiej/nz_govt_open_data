{
 "cells": [
  {
   "cell_type": "code",
   "execution_count": 1,
   "metadata": {},
   "outputs": [],
   "source": [
    "import pandas as pd\n",
    "import numpy as np\n",
    "import seaborn as sns\n",
    "import matplotlib.pyplot as plt\n",
    "import pickle\n",
    "import warnings\n",
    "warnings.filterwarnings('ignore')"
   ]
  },
  {
   "cell_type": "code",
   "execution_count": 2,
   "metadata": {},
   "outputs": [],
   "source": [
    "df = pd.read_csv('../DATA/wellbeing-statistics-2018-csv/wellbeing statistics 2018.csv')\n",
    "df = df[df['Estimate'] != 'S']"
   ]
  },
  {
   "cell_type": "code",
   "execution_count": 3,
   "metadata": {},
   "outputs": [],
   "source": [
    "with open('../DATA/pickle_files/CaCodes.pickle', 'rb') as handle:\n",
    "    CaCodes = pickle.load(handle)"
   ]
  },
  {
   "cell_type": "code",
   "execution_count": 4,
   "metadata": {},
   "outputs": [],
   "source": [
    "with open('../DATA/pickle_files/VaCodes_Std.pickle', 'rb') as handle:\n",
    "    VaCodes = pickle.load(handle)"
   ]
  },
  {
   "cell_type": "code",
   "execution_count": 5,
   "metadata": {},
   "outputs": [],
   "source": [
    "df['CaCode_Decoded'] = df['CACode'].apply(lambda x: CaCodes[x])"
   ]
  },
  {
   "cell_type": "code",
   "execution_count": 6,
   "metadata": {},
   "outputs": [],
   "source": [
    "df['VaCode_Decoded'] = df['VaCode'].apply(lambda x: VaCodes[x])"
   ]
  },
  {
   "cell_type": "code",
   "execution_count": 7,
   "metadata": {},
   "outputs": [],
   "source": [
    "df = df[(~df.VaCode_Decoded.str.contains(\"safety\")) & (~df.VaCode_Decoded.str.contains(\"social\")) & \n",
    "        (~df.VaCode_Decoded.str.contains(\"acceptance\")) & \n",
    "        (~df.VaCode_Decoded.str.contains(\"security\")) & \n",
    "       (~df.VaCode_Decoded.str.contains(\"express\"))]"
   ]
  },
  {
   "cell_type": "code",
   "execution_count": 8,
   "metadata": {},
   "outputs": [
    {
     "data": {
      "text/html": [
       "<div>\n",
       "<style scoped>\n",
       "    .dataframe tbody tr th:only-of-type {\n",
       "        vertical-align: middle;\n",
       "    }\n",
       "\n",
       "    .dataframe tbody tr th {\n",
       "        vertical-align: top;\n",
       "    }\n",
       "\n",
       "    .dataframe thead th {\n",
       "        text-align: right;\n",
       "    }\n",
       "</style>\n",
       "<table border=\"1\" class=\"dataframe\">\n",
       "  <thead>\n",
       "    <tr style=\"text-align: right;\">\n",
       "      <th></th>\n",
       "      <th>ASE</th>\n",
       "    </tr>\n",
       "  </thead>\n",
       "  <tbody>\n",
       "    <tr>\n",
       "      <th>count</th>\n",
       "      <td>4741.000000</td>\n",
       "    </tr>\n",
       "    <tr>\n",
       "      <th>mean</th>\n",
       "      <td>2.551888</td>\n",
       "    </tr>\n",
       "    <tr>\n",
       "      <th>std</th>\n",
       "      <td>2.311434</td>\n",
       "    </tr>\n",
       "    <tr>\n",
       "      <th>min</th>\n",
       "      <td>0.000000</td>\n",
       "    </tr>\n",
       "    <tr>\n",
       "      <th>25%</th>\n",
       "      <td>1.200000</td>\n",
       "    </tr>\n",
       "    <tr>\n",
       "      <th>50%</th>\n",
       "      <td>2.100000</td>\n",
       "    </tr>\n",
       "    <tr>\n",
       "      <th>75%</th>\n",
       "      <td>3.300000</td>\n",
       "    </tr>\n",
       "    <tr>\n",
       "      <th>max</th>\n",
       "      <td>16.800000</td>\n",
       "    </tr>\n",
       "  </tbody>\n",
       "</table>\n",
       "</div>"
      ],
      "text/plain": [
       "               ASE\n",
       "count  4741.000000\n",
       "mean      2.551888\n",
       "std       2.311434\n",
       "min       0.000000\n",
       "25%       1.200000\n",
       "50%       2.100000\n",
       "75%       3.300000\n",
       "max      16.800000"
      ]
     },
     "execution_count": 8,
     "metadata": {},
     "output_type": "execute_result"
    }
   ],
   "source": [
    "df.describe()"
   ]
  },
  {
   "cell_type": "code",
   "execution_count": 9,
   "metadata": {},
   "outputs": [],
   "source": [
    "new_va = df[\"VaCode_Decoded\"].str.split(\":\", n = 1, expand = True) \n",
    "df['VaCodeVariable'] = new_va[0]\n",
    "df['VaCodeCategory'] = new_va[1]"
   ]
  },
  {
   "cell_type": "code",
   "execution_count": 10,
   "metadata": {},
   "outputs": [],
   "source": [
    "new_ca = df[\"CaCode_Decoded\"].str.split(\":\", n = 1, expand = True) \n",
    "df['CaCodeVariable'] = new_ca[0]\n",
    "df['CaCodeCategory'] = new_ca[1]"
   ]
  },
  {
   "cell_type": "code",
   "execution_count": 11,
   "metadata": {},
   "outputs": [],
   "source": [
    "df.drop(columns=['CACode', 'VaCode', 'ASE', 'Flag', 'CaCode_Decoded', 'VaCode_Decoded'], axis=1, inplace=True)"
   ]
  },
  {
   "cell_type": "code",
   "execution_count": 12,
   "metadata": {},
   "outputs": [],
   "source": [
    "df['Estimate'] = pd.to_numeric(df['Estimate'])"
   ]
  },
  {
   "cell_type": "code",
   "execution_count": 13,
   "metadata": {},
   "outputs": [],
   "source": [
    "df['CaCodeVariable'] = df['CaCodeVariable'].str.replace(\"none\", \"total\")"
   ]
  },
  {
   "cell_type": "code",
   "execution_count": 14,
   "metadata": {},
   "outputs": [],
   "source": [
    "df = df[df.VaCodeCategory != 'mean_rating'] #we dont need the mean_rating variables, because we can calculate it ourselves"
   ]
  },
  {
   "cell_type": "code",
   "execution_count": 15,
   "metadata": {},
   "outputs": [
    {
     "data": {
      "text/html": [
       "<div>\n",
       "<style scoped>\n",
       "    .dataframe tbody tr th:only-of-type {\n",
       "        vertical-align: middle;\n",
       "    }\n",
       "\n",
       "    .dataframe tbody tr th {\n",
       "        vertical-align: top;\n",
       "    }\n",
       "\n",
       "    .dataframe thead th {\n",
       "        text-align: right;\n",
       "    }\n",
       "</style>\n",
       "<table border=\"1\" class=\"dataframe\">\n",
       "  <thead>\n",
       "    <tr style=\"text-align: right;\">\n",
       "      <th></th>\n",
       "      <th>Estimate</th>\n",
       "      <th>VaCodeVariable</th>\n",
       "      <th>VaCodeCategory</th>\n",
       "      <th>CaCodeVariable</th>\n",
       "      <th>CaCodeCategory</th>\n",
       "    </tr>\n",
       "  </thead>\n",
       "  <tbody>\n",
       "    <tr>\n",
       "      <th>0</th>\n",
       "      <td>18.9</td>\n",
       "      <td>overall_life_satisfaction</td>\n",
       "      <td>0_to_6</td>\n",
       "      <td>total</td>\n",
       "      <td>variable_value_totals</td>\n",
       "    </tr>\n",
       "    <tr>\n",
       "      <th>1</th>\n",
       "      <td>19.0</td>\n",
       "      <td>overall_life_satisfaction</td>\n",
       "      <td>7</td>\n",
       "      <td>total</td>\n",
       "      <td>variable_value_totals</td>\n",
       "    </tr>\n",
       "    <tr>\n",
       "      <th>2</th>\n",
       "      <td>30.3</td>\n",
       "      <td>overall_life_satisfaction</td>\n",
       "      <td>8</td>\n",
       "      <td>total</td>\n",
       "      <td>variable_value_totals</td>\n",
       "    </tr>\n",
       "    <tr>\n",
       "      <th>3</th>\n",
       "      <td>14.9</td>\n",
       "      <td>overall_life_satisfaction</td>\n",
       "      <td>9</td>\n",
       "      <td>total</td>\n",
       "      <td>variable_value_totals</td>\n",
       "    </tr>\n",
       "    <tr>\n",
       "      <th>4</th>\n",
       "      <td>17.0</td>\n",
       "      <td>overall_life_satisfaction</td>\n",
       "      <td>10</td>\n",
       "      <td>total</td>\n",
       "      <td>variable_value_totals</td>\n",
       "    </tr>\n",
       "  </tbody>\n",
       "</table>\n",
       "</div>"
      ],
      "text/plain": [
       "   Estimate             VaCodeVariable VaCodeCategory CaCodeVariable  \\\n",
       "0      18.9  overall_life_satisfaction         0_to_6          total   \n",
       "1      19.0  overall_life_satisfaction              7          total   \n",
       "2      30.3  overall_life_satisfaction              8          total   \n",
       "3      14.9  overall_life_satisfaction              9          total   \n",
       "4      17.0  overall_life_satisfaction             10          total   \n",
       "\n",
       "          CaCodeCategory  \n",
       "0  variable_value_totals  \n",
       "1  variable_value_totals  \n",
       "2  variable_value_totals  \n",
       "3  variable_value_totals  \n",
       "4  variable_value_totals  "
      ]
     },
     "execution_count": 15,
     "metadata": {},
     "output_type": "execute_result"
    }
   ],
   "source": [
    "df.head()"
   ]
  },
  {
   "cell_type": "code",
   "execution_count": 16,
   "metadata": {},
   "outputs": [],
   "source": [
    "rankings = {\n",
    "    -1: ['crossvariable_value_totals_-_demographic_sub_totals'],\n",
    "    'poor': ['0_to_6', '7', 'not_enough_money', 'fair/poor', 'most/all_of_the_time', '0_to_4'],\n",
    "    'good': ['8', 'only_just_enough_money', 'good', 'some_of_the_time', '5_to_6'],\n",
    "    'very good': ['9', 'enough_money', 'very_good', 'a_little_of_the_time', '7_to_8'],\n",
    "    'excellent': ['10', 'more_than_enough_money','excellent', 'none_of_the_time', '9_to_10']\n",
    "}\n",
    "\n",
    "def get_key(x):\n",
    "    for k,v in rankings.items():\n",
    "        if x in v:\n",
    "            return k"
   ]
  },
  {
   "cell_type": "code",
   "execution_count": 17,
   "metadata": {},
   "outputs": [],
   "source": [
    "df['rankings'] = df['VaCodeCategory'].apply(lambda x: get_key(x))"
   ]
  },
  {
   "cell_type": "code",
   "execution_count": 18,
   "metadata": {},
   "outputs": [],
   "source": [
    "df['rankings'] = pd.Categorical(df['rankings'])"
   ]
  },
  {
   "cell_type": "code",
   "execution_count": 19,
   "metadata": {},
   "outputs": [],
   "source": [
    "df.to_pickle('wellbeing_df.pickle')"
   ]
  },
  {
   "cell_type": "code",
   "execution_count": 20,
   "metadata": {},
   "outputs": [],
   "source": [
    "life_satisfaction_identity = df[(df.VaCodeVariable == 'overall_life_satisfaction') & (df.CaCodeVariable == 'sexual_identity')]"
   ]
  },
  {
   "cell_type": "code",
   "execution_count": 21,
   "metadata": {},
   "outputs": [
    {
     "data": {
      "image/png": "[encoded data removed]",
      "text/plain": [
       "<Figure size 1080x648 with 1 Axes>"
      ]
     },
     "metadata": {
      "needs_background": "light"
     },
     "output_type": "display_data"
    }
   ],
   "source": [
    "f, ax = plt.subplots(figsize=(15, 9))\n",
    "g = sns.barplot(x='VaCodeVariable', y=\"Estimate\", hue='rankings', data=df, hue_order=['poor', 'good', 'very good', 'excellent'])\n",
    "plt.xticks(rotation=90)\n",
    "plt.show()"
   ]
  },
  {
   "cell_type": "code",
   "execution_count": 22,
   "metadata": {},
   "outputs": [],
   "source": [
    "test = df.pivot_table('Estimate', ['VaCodeVariable', 'CaCodeVariable', 'CaCodeCategory'], 'rankings')"
   ]
  },
  {
   "cell_type": "code",
   "execution_count": 23,
   "metadata": {},
   "outputs": [],
   "source": [
    "new_test = test.T"
   ]
  },
  {
   "cell_type": "code",
   "execution_count": 24,
   "metadata": {},
   "outputs": [],
   "source": [
    "fm = new_test['family_wellbeing']['household_income']"
   ]
  },
  {
   "cell_type": "code",
   "execution_count": 25,
   "metadata": {},
   "outputs": [
    {
     "data": {
      "text/html": [
       "<div>\n",
       "<style scoped>\n",
       "    .dataframe tbody tr th:only-of-type {\n",
       "        vertical-align: middle;\n",
       "    }\n",
       "\n",
       "    .dataframe tbody tr th {\n",
       "        vertical-align: top;\n",
       "    }\n",
       "\n",
       "    .dataframe thead th {\n",
       "        text-align: right;\n",
       "    }\n",
       "</style>\n",
       "<table border=\"1\" class=\"dataframe\">\n",
       "  <thead>\n",
       "    <tr style=\"text-align: right;\">\n",
       "      <th>CaCodeCategory</th>\n",
       "      <th>$100,001–$150,000</th>\n",
       "      <th>$150,001_or_more</th>\n",
       "      <th>$30,000_or_less</th>\n",
       "      <th>$30,001–$70,000</th>\n",
       "      <th>$70,001–$100,000</th>\n",
       "    </tr>\n",
       "    <tr>\n",
       "      <th>rankings</th>\n",
       "      <th></th>\n",
       "      <th></th>\n",
       "      <th></th>\n",
       "      <th></th>\n",
       "      <th></th>\n",
       "    </tr>\n",
       "  </thead>\n",
       "  <tbody>\n",
       "    <tr>\n",
       "      <th>-1</th>\n",
       "      <td>NaN</td>\n",
       "      <td>NaN</td>\n",
       "      <td>NaN</td>\n",
       "      <td>NaN</td>\n",
       "      <td>NaN</td>\n",
       "    </tr>\n",
       "    <tr>\n",
       "      <th>excellent</th>\n",
       "      <td>13.2</td>\n",
       "      <td>19.60</td>\n",
       "      <td>23.4</td>\n",
       "      <td>20.4</td>\n",
       "      <td>14.50</td>\n",
       "    </tr>\n",
       "    <tr>\n",
       "      <th>good</th>\n",
       "      <td>35.0</td>\n",
       "      <td>32.70</td>\n",
       "      <td>25.0</td>\n",
       "      <td>28.0</td>\n",
       "      <td>30.20</td>\n",
       "    </tr>\n",
       "    <tr>\n",
       "      <th>poor</th>\n",
       "      <td>17.7</td>\n",
       "      <td>14.55</td>\n",
       "      <td>19.8</td>\n",
       "      <td>18.3</td>\n",
       "      <td>19.95</td>\n",
       "    </tr>\n",
       "    <tr>\n",
       "      <th>very good</th>\n",
       "      <td>16.4</td>\n",
       "      <td>18.60</td>\n",
       "      <td>12.0</td>\n",
       "      <td>15.0</td>\n",
       "      <td>15.40</td>\n",
       "    </tr>\n",
       "  </tbody>\n",
       "</table>\n",
       "</div>"
      ],
      "text/plain": [
       "CaCodeCategory  $100,001–$150,000  $150,001_or_more  $30,000_or_less  \\\n",
       "rankings                                                               \n",
       "-1                            NaN               NaN              NaN   \n",
       "excellent                    13.2             19.60             23.4   \n",
       "good                         35.0             32.70             25.0   \n",
       "poor                         17.7             14.55             19.8   \n",
       "very good                    16.4             18.60             12.0   \n",
       "\n",
       "CaCodeCategory  $30,001–$70,000  $70,001–$100,000  \n",
       "rankings                                           \n",
       "-1                          NaN               NaN  \n",
       "excellent                  20.4             14.50  \n",
       "good                       28.0             30.20  \n",
       "poor                       18.3             19.95  \n",
       "very good                  15.0             15.40  "
      ]
     },
     "execution_count": 25,
     "metadata": {},
     "output_type": "execute_result"
    }
   ],
   "source": [
    "fm"
   ]
  },
  {
   "cell_type": "code",
   "execution_count": 31,
   "metadata": {},
   "outputs": [
    {
     "data": {
      "text/plain": [
       "MultiIndex(levels=[['family_wellbeing', 'fear_of_crime_-_effect_on_life', 'generalised_trust_for_people', 'income_adequacy', 'life_worthwhile', 'loneliness', 'none', 'overall_life_satisfaction', 'self-rated_general_health', 'trust_held_for_courts', 'trust_held_for_education_system', 'trust_held_for_health_system', 'trust_held_for_media', 'trust_held_for_parliament', 'trust_held_for_police'], ['age_group', 'disability_status', 'ethnicity', 'family_type', 'highest_qualification', 'household_income', 'housing_tenure', 'labour_force_status', 'lifestage', 'migrant_status', 'personal_income', 'region', 'sex', 'sexual_identity', 'total', 'urban_/_rural'], ['$100,001–$150,000', '$150,001_or_more', '$30,000_or_less', '$30,001–$70,000', '$70,001_or_more', '$70,001–$100,000', '15–24', '25–34', '25–44', '35–44', '45–54', '45–64', '55–64', '65+', '65–74', '75+', 'asian', 'auckland', 'bay_of_plenty', 'bisexual', 'born_in_nz', 'canterbury', 'couple_with_child(ren)', 'couple_without_child(ren)', 'disabled', 'employed', 'european', 'female', 'gay_or_lesbian', 'gisborne_/_hawkes_bay', 'heterosexual_or_straight', 'level_1–4_certificate', 'level_5–6_diploma', 'level_7/_bachelor_degree_and_above', 'long-term_migrant', 'male', 'manawatu_/_whanganui', 'māori', 'nelson/tasman/marlborough/west_coast', 'no_qualification', 'non_-_disabled', 'northland', 'not_in_a_family_nucleus', 'not_in_the_labour_force', 'not_owner_–_occupied', 'one_parent_with_child(ren)', 'otago', 'other_identities', 'owner-occupied', 'pacific_peoples', 'recent_migrant', 'rural/other', 'southland', 'taranaki', 'unemployed', 'urban_large', 'urban_major', 'urban_medium', 'urban_small', 'variable_value_totals', 'variable_value_totals_(population_aged_18+)', 'waikato', 'wellington']],\n",
       "           labels=[[0, 0, 0, 0, 0, 0, 0, 0, 0, 0, 0, 0, 0, 0, 0, 0, 0, 0, 0, 0, 0, 0, 0, 0, 0, 0, 0, 0, 0, 0, 0, 0, 0, 0, 0, 0, 0, 0, 0, 0, 0, 0, 0, 0, 0, 0, 0, 0, 0, 0, 0, 0, 0, 0, 0, 0, 0, 0, 0, 0, 0, 0, 0, 0, 0, 0, 1, 1, 1, 1, 1, 1, 1, 1, 1, 1, 1, 1, 1, 1, 1, 1, 1, 1, 1, 1, 1, 1, 1, 1, 1, 1, 1, 1, 1, 1, 1, 1, 1, 1, 1, 1, 1, 1, 1, 1, 1, 1, 1, 1, 1, 1, 1, 1, 1, 1, 1, 1, 1, 1, 1, 1, 1, 1, 1, 1, 1, 1, 1, 1, 1, 1, 2, 2, 2, 2, 2, 2, 2, 2, 2, 2, 2, 2, 2, 2, 2, 2, 2, 2, 2, 2, 2, 2, 2, 2, 2, 2, 2, 2, 2, 2, 2, 2, 2, 2, 2, 2, 2, 2, 2, 2, 2, 2, 2, 2, 2, 2, 2, 2, 2, 2, 2, 2, 2, 2, 2, 2, 2, 2, 2, 2, 2, 2, 2, 2, 2, 2, 3, 3, 3, 3, 3, 3, 3, 3, 3, 3, 3, 3, 3, 3, 3, 3, 3, 3, 3, 3, 3, 3, 3, 3, 3, 3, 3, 3, 3, 3, 3, 3, 3, 3, 3, 3, 3, 3, 3, 3, 3, 3, 3, 3, 3, 3, 3, 3, 3, 3, 3, 3, 3, 3, 3, 3, 3, 3, 3, 3, 3, 3, 3, 3, 3, 3, 4, 4, 4, 4, 4, 4, 4, 4, 4, 4, 4, 4, 4, 4, 4, 4, 4, 4, 4, 4, 4, 4, 4, 4, 4, 4, 4, 4, 4, 4, 4, 4, 4, 4, 4, 4, 4, 4, 4, 4, 4, 4, 4, 4, 4, 4, 4, 4, 4, 4, 4, 4, 4, 4, 4, 4, 4, 4, 4, 4, 4, 4, 4, 4, 4, 4, 5, 5, 5, 5, 5, 5, 5, 5, 5, 5, 5, 5, 5, 5, 5, 5, 5, 5, 5, 5, 5, 5, 5, 5, 5, 5, 5, 5, 5, 5, 5, 5, 5, 5, 5, 5, 5, 5, 5, 5, 5, 5, 5, 5, 5, 5, 5, 5, 5, 5, 5, 5, 5, 5, 5, 5, 5, 5, 5, 5, 5, 5, 5, 5, 5, 5, 6, 6, 6, 6, 6, 6, 6, 6, 6, 6, 6, 6, 6, 6, 6, 6, 6, 6, 6, 6, 6, 6, 6, 6, 6, 6, 6, 6, 6, 6, 6, 6, 6, 6, 6, 6, 6, 6, 6, 6, 6, 6, 6, 6, 6, 6, 6, 6, 6, 6, 6, 6, 6, 6, 6, 6, 6, 6, 6, 6, 6, 6, 6, 6, 7, 7, 7, 7, 7, 7, 7, 7, 7, 7, 7, 7, 7, 7, 7, 7, 7, 7, 7, 7, 7, 7, 7, 7, 7, 7, 7, 7, 7, 7, 7, 7, 7, 7, 7, 7, 7, 7, 7, 7, 7, 7, 7, 7, 7, 7, 7, 7, 7, 7, 7, 7, 7, 7, 7, 7, 7, 7, 7, 7, 7, 7, 7, 7, 7, 7, 8, 8, 8, 8, 8, 8, 8, 8, 8, 8, 8, 8, 8, 8, 8, 8, 8, 8, 8, 8, 8, 8, 8, 8, 8, 8, 8, 8, 8, 8, 8, 8, 8, 8, 8, 8, 8, 8, 8, 8, 8, 8, 8, 8, 8, 8, 8, 8, 8, 8, 8, 8, 8, 8, 8, 8, 8, 8, 8, 8, 8, 8, 8, 8, 8, 8, 9, 9, 9, 9, 9, 9, 9, 9, 9, 9, 9, 9, 9, 9, 9, 9, 9, 9, 9, 9, 9, 9, 9, 9, 9, 9, 9, 9, 9, 9, 9, 9, 9, 9, 9, 9, 9, 9, 9, 9, 9, 9, 9, 9, 9, 9, 9, 9, 9, 9, 9, 9, 9, 9, 9, 9, 9, 9, 9, 9, 9, 9, 9, 9, 9, 9, 10, 10, 10, 10, 10, 10, 10, 10, 10, 10, 10, 10, 10, 10, 10, 10, 10, 10, 10, 10, 10, 10, 10, 10, 10, 10, 10, 10, 10, 10, 10, 10, 10, 10, 10, 10, 10, 10, 10, 10, 10, 10, 10, 10, 10, 10, 10, 10, 10, 10, 10, 10, 10, 10, 10, 10, 10, 10, 10, 10, 10, 10, 10, 10, 10, 10, 11, 11, 11, 11, 11, 11, 11, 11, 11, 11, 11, 11, 11, 11, 11, 11, 11, 11, 11, 11, 11, 11, 11, 11, 11, 11, 11, 11, 11, 11, 11, 11, 11, 11, 11, 11, 11, 11, 11, 11, 11, 11, 11, 11, 11, 11, 11, 11, 11, 11, 11, 11, 11, 11, 11, 11, 11, 11, 11, 11, 11, 11, 11, 11, 11, 11, 12, 12, 12, 12, 12, 12, 12, 12, 12, 12, 12, 12, 12, 12, 12, 12, 12, 12, 12, 12, 12, 12, 12, 12, 12, 12, 12, 12, 12, 12, 12, 12, 12, 12, 12, 12, 12, 12, 12, 12, 12, 12, 12, 12, 12, 12, 12, 12, 12, 12, 12, 12, 12, 12, 12, 12, 12, 12, 12, 12, 12, 12, 12, 12, 12, 12, 13, 13, 13, 13, 13, 13, 13, 13, 13, 13, 13, 13, 13, 13, 13, 13, 13, 13, 13, 13, 13, 13, 13, 13, 13, 13, 13, 13, 13, 13, 13, 13, 13, 13, 13, 13, 13, 13, 13, 13, 13, 13, 13, 13, 13, 13, 13, 13, 13, 13, 13, 13, 13, 13, 13, 13, 13, 13, 13, 13, 13, 13, 13, 13, 13, 13, 14, 14, 14, 14, 14, 14, 14, 14, 14, 14, 14, 14, 14, 14, 14, 14, 14, 14, 14, 14, 14, 14, 14, 14, 14, 14, 14, 14, 14, 14, 14, 14, 14, 14, 14, 14, 14, 14, 14, 14, 14, 14, 14, 14, 14, 14, 14, 14, 14, 14, 14, 14, 14, 14, 14, 14, 14, 14, 14, 14, 14, 14, 14, 14, 14, 14], [0, 0, 0, 0, 0, 0, 0, 1, 1, 2, 2, 2, 2, 3, 3, 3, 3, 4, 4, 4, 4, 5, 5, 5, 5, 5, 6, 6, 7, 7, 7, 8, 8, 8, 8, 9, 9, 9, 10, 10, 10, 11, 11, 11, 11, 11, 11, 11, 11, 11, 11, 11, 11, 12, 12, 13, 13, 13, 13, 14, 14, 15, 15, 15, 15, 15, 0, 0, 0, 0, 0, 0, 0, 1, 1, 2, 2, 2, 2, 3, 3, 3, 3, 4, 4, 4, 4, 5, 5, 5, 5, 5, 6, 6, 7, 7, 7, 8, 8, 8, 8, 9, 9, 9, 10, 10, 10, 11, 11, 11, 11, 11, 11, 11, 11, 11, 11, 11, 11, 12, 12, 13, 13, 13, 13, 14, 14, 15, 15, 15, 15, 15, 0, 0, 0, 0, 0, 0, 0, 1, 1, 2, 2, 2, 2, 3, 3, 3, 3, 4, 4, 4, 4, 5, 5, 5, 5, 5, 6, 6, 7, 7, 7, 8, 8, 8, 8, 9, 9, 9, 10, 10, 10, 11, 11, 11, 11, 11, 11, 11, 11, 11, 11, 11, 11, 12, 12, 13, 13, 13, 13, 14, 14, 15, 15, 15, 15, 15, 0, 0, 0, 0, 0, 0, 0, 1, 1, 2, 2, 2, 2, 3, 3, 3, 3, 4, 4, 4, 4, 5, 5, 5, 5, 5, 6, 6, 7, 7, 7, 8, 8, 8, 8, 9, 9, 9, 10, 10, 10, 11, 11, 11, 11, 11, 11, 11, 11, 11, 11, 11, 11, 12, 12, 13, 13, 13, 13, 14, 14, 15, 15, 15, 15, 15, 0, 0, 0, 0, 0, 0, 0, 1, 1, 2, 2, 2, 2, 3, 3, 3, 3, 4, 4, 4, 4, 5, 5, 5, 5, 5, 6, 6, 7, 7, 7, 8, 8, 8, 8, 9, 9, 9, 10, 10, 10, 11, 11, 11, 11, 11, 11, 11, 11, 11, 11, 11, 11, 12, 12, 13, 13, 13, 13, 14, 14, 15, 15, 15, 15, 15, 0, 0, 0, 0, 0, 0, 0, 1, 1, 2, 2, 2, 2, 3, 3, 3, 3, 4, 4, 4, 4, 5, 5, 5, 5, 5, 6, 6, 7, 7, 7, 8, 8, 8, 8, 9, 9, 9, 10, 10, 10, 11, 11, 11, 11, 11, 11, 11, 11, 11, 11, 11, 11, 12, 12, 13, 13, 13, 13, 14, 14, 15, 15, 15, 15, 15, 0, 0, 0, 0, 0, 0, 0, 1, 1, 2, 2, 2, 2, 3, 3, 3, 3, 4, 4, 4, 4, 5, 5, 5, 5, 5, 6, 6, 7, 7, 7, 8, 8, 8, 8, 9, 9, 9, 10, 10, 10, 11, 11, 11, 11, 11, 11, 11, 11, 11, 11, 11, 11, 12, 12, 13, 13, 13, 13, 15, 15, 15, 15, 15, 0, 0, 0, 0, 0, 0, 0, 1, 1, 2, 2, 2, 2, 3, 3, 3, 3, 4, 4, 4, 4, 5, 5, 5, 5, 5, 6, 6, 7, 7, 7, 8, 8, 8, 8, 9, 9, 9, 10, 10, 10, 11, 11, 11, 11, 11, 11, 11, 11, 11, 11, 11, 11, 12, 12, 13, 13, 13, 13, 14, 14, 15, 15, 15, 15, 15, 0, 0, 0, 0, 0, 0, 0, 1, 1, 2, 2, 2, 2, 3, 3, 3, 3, 4, 4, 4, 4, 5, 5, 5, 5, 5, 6, 6, 7, 7, 7, 8, 8, 8, 8, 9, 9, 9, 10, 10, 10, 11, 11, 11, 11, 11, 11, 11, 11, 11, 11, 11, 11, 12, 12, 13, 13, 13, 13, 14, 14, 15, 15, 15, 15, 15, 0, 0, 0, 0, 0, 0, 0, 1, 1, 2, 2, 2, 2, 3, 3, 3, 3, 4, 4, 4, 4, 5, 5, 5, 5, 5, 6, 6, 7, 7, 7, 8, 8, 8, 8, 9, 9, 9, 10, 10, 10, 11, 11, 11, 11, 11, 11, 11, 11, 11, 11, 11, 11, 12, 12, 13, 13, 13, 13, 14, 14, 15, 15, 15, 15, 15, 0, 0, 0, 0, 0, 0, 0, 1, 1, 2, 2, 2, 2, 3, 3, 3, 3, 4, 4, 4, 4, 5, 5, 5, 5, 5, 6, 6, 7, 7, 7, 8, 8, 8, 8, 9, 9, 9, 10, 10, 10, 11, 11, 11, 11, 11, 11, 11, 11, 11, 11, 11, 11, 12, 12, 13, 13, 13, 13, 14, 14, 15, 15, 15, 15, 15, 0, 0, 0, 0, 0, 0, 0, 1, 1, 2, 2, 2, 2, 3, 3, 3, 3, 4, 4, 4, 4, 5, 5, 5, 5, 5, 6, 6, 7, 7, 7, 8, 8, 8, 8, 9, 9, 9, 10, 10, 10, 11, 11, 11, 11, 11, 11, 11, 11, 11, 11, 11, 11, 12, 12, 13, 13, 13, 13, 14, 14, 15, 15, 15, 15, 15, 0, 0, 0, 0, 0, 0, 0, 1, 1, 2, 2, 2, 2, 3, 3, 3, 3, 4, 4, 4, 4, 5, 5, 5, 5, 5, 6, 6, 7, 7, 7, 8, 8, 8, 8, 9, 9, 9, 10, 10, 10, 11, 11, 11, 11, 11, 11, 11, 11, 11, 11, 11, 11, 12, 12, 13, 13, 13, 13, 14, 14, 15, 15, 15, 15, 15, 0, 0, 0, 0, 0, 0, 0, 1, 1, 2, 2, 2, 2, 3, 3, 3, 3, 4, 4, 4, 4, 5, 5, 5, 5, 5, 6, 6, 7, 7, 7, 8, 8, 8, 8, 9, 9, 9, 10, 10, 10, 11, 11, 11, 11, 11, 11, 11, 11, 11, 11, 11, 11, 12, 12, 13, 13, 13, 13, 14, 14, 15, 15, 15, 15, 15, 0, 0, 0, 0, 0, 0, 0, 1, 1, 2, 2, 2, 2, 3, 3, 3, 3, 4, 4, 4, 4, 5, 5, 5, 5, 5, 6, 6, 7, 7, 7, 8, 8, 8, 8, 9, 9, 9, 10, 10, 10, 11, 11, 11, 11, 11, 11, 11, 11, 11, 11, 11, 11, 12, 12, 13, 13, 13, 13, 14, 14, 15, 15, 15, 15, 15], [6, 7, 9, 10, 12, 14, 15, 24, 40, 16, 26, 37, 49, 22, 23, 42, 45, 31, 32, 33, 39, 0, 1, 2, 3, 5, 44, 48, 25, 43, 54, 6, 8, 11, 13, 20, 34, 50, 2, 3, 4, 17, 18, 21, 29, 36, 38, 41, 46, 52, 53, 61, 62, 27, 35, 19, 28, 30, 47, 59, 60, 51, 55, 56, 57, 58, 6, 7, 9, 10, 12, 14, 15, 24, 40, 16, 26, 37, 49, 22, 23, 42, 45, 31, 32, 33, 39, 0, 1, 2, 3, 5, 44, 48, 25, 43, 54, 6, 8, 11, 13, 20, 34, 50, 2, 3, 4, 17, 18, 21, 29, 36, 38, 41, 46, 52, 53, 61, 62, 27, 35, 19, 28, 30, 47, 59, 60, 51, 55, 56, 57, 58, 6, 7, 9, 10, 12, 14, 15, 24, 40, 16, 26, 37, 49, 22, 23, 42, 45, 31, 32, 33, 39, 0, 1, 2, 3, 5, 44, 48, 25, 43, 54, 6, 8, 11, 13, 20, 34, 50, 2, 3, 4, 17, 18, 21, 29, 36, 38, 41, 46, 52, 53, 61, 62, 27, 35, 19, 28, 30, 47, 59, 60, 51, 55, 56, 57, 58, 6, 7, 9, 10, 12, 14, 15, 24, 40, 16, 26, 37, 49, 22, 23, 42, 45, 31, 32, 33, 39, 0, 1, 2, 3, 5, 44, 48, 25, 43, 54, 6, 8, 11, 13, 20, 34, 50, 2, 3, 4, 17, 18, 21, 29, 36, 38, 41, 46, 52, 53, 61, 62, 27, 35, 19, 28, 30, 47, 59, 60, 51, 55, 56, 57, 58, 6, 7, 9, 10, 12, 14, 15, 24, 40, 16, 26, 37, 49, 22, 23, 42, 45, 31, 32, 33, 39, 0, 1, 2, 3, 5, 44, 48, 25, 43, 54, 6, 8, 11, 13, 20, 34, 50, 2, 3, 4, 17, 18, 21, 29, 36, 38, 41, 46, 52, 53, 61, 62, 27, 35, 19, 28, 30, 47, 59, 60, 51, 55, 56, 57, 58, 6, 7, 9, 10, 12, 14, 15, 24, 40, 16, 26, 37, 49, 22, 23, 42, 45, 31, 32, 33, 39, 0, 1, 2, 3, 5, 44, 48, 25, 43, 54, 6, 8, 11, 13, 20, 34, 50, 2, 3, 4, 17, 18, 21, 29, 36, 38, 41, 46, 52, 53, 61, 62, 27, 35, 19, 28, 30, 47, 59, 60, 51, 55, 56, 57, 58, 6, 7, 9, 10, 12, 14, 15, 24, 40, 16, 26, 37, 49, 22, 23, 42, 45, 31, 32, 33, 39, 0, 1, 2, 3, 5, 44, 48, 25, 43, 54, 6, 8, 11, 13, 20, 34, 50, 2, 3, 4, 17, 18, 21, 29, 36, 38, 41, 46, 52, 53, 61, 62, 27, 35, 19, 28, 30, 47, 51, 55, 56, 57, 58, 6, 7, 9, 10, 12, 14, 15, 24, 40, 16, 26, 37, 49, 22, 23, 42, 45, 31, 32, 33, 39, 0, 1, 2, 3, 5, 44, 48, 25, 43, 54, 6, 8, 11, 13, 20, 34, 50, 2, 3, 4, 17, 18, 21, 29, 36, 38, 41, 46, 52, 53, 61, 62, 27, 35, 19, 28, 30, 47, 59, 60, 51, 55, 56, 57, 58, 6, 7, 9, 10, 12, 14, 15, 24, 40, 16, 26, 37, 49, 22, 23, 42, 45, 31, 32, 33, 39, 0, 1, 2, 3, 5, 44, 48, 25, 43, 54, 6, 8, 11, 13, 20, 34, 50, 2, 3, 4, 17, 18, 21, 29, 36, 38, 41, 46, 52, 53, 61, 62, 27, 35, 19, 28, 30, 47, 59, 60, 51, 55, 56, 57, 58, 6, 7, 9, 10, 12, 14, 15, 24, 40, 16, 26, 37, 49, 22, 23, 42, 45, 31, 32, 33, 39, 0, 1, 2, 3, 5, 44, 48, 25, 43, 54, 6, 8, 11, 13, 20, 34, 50, 2, 3, 4, 17, 18, 21, 29, 36, 38, 41, 46, 52, 53, 61, 62, 27, 35, 19, 28, 30, 47, 59, 60, 51, 55, 56, 57, 58, 6, 7, 9, 10, 12, 14, 15, 24, 40, 16, 26, 37, 49, 22, 23, 42, 45, 31, 32, 33, 39, 0, 1, 2, 3, 5, 44, 48, 25, 43, 54, 6, 8, 11, 13, 20, 34, 50, 2, 3, 4, 17, 18, 21, 29, 36, 38, 41, 46, 52, 53, 61, 62, 27, 35, 19, 28, 30, 47, 59, 60, 51, 55, 56, 57, 58, 6, 7, 9, 10, 12, 14, 15, 24, 40, 16, 26, 37, 49, 22, 23, 42, 45, 31, 32, 33, 39, 0, 1, 2, 3, 5, 44, 48, 25, 43, 54, 6, 8, 11, 13, 20, 34, 50, 2, 3, 4, 17, 18, 21, 29, 36, 38, 41, 46, 52, 53, 61, 62, 27, 35, 19, 28, 30, 47, 59, 60, 51, 55, 56, 57, 58, 6, 7, 9, 10, 12, 14, 15, 24, 40, 16, 26, 37, 49, 22, 23, 42, 45, 31, 32, 33, 39, 0, 1, 2, 3, 5, 44, 48, 25, 43, 54, 6, 8, 11, 13, 20, 34, 50, 2, 3, 4, 17, 18, 21, 29, 36, 38, 41, 46, 52, 53, 61, 62, 27, 35, 19, 28, 30, 47, 59, 60, 51, 55, 56, 57, 58, 6, 7, 9, 10, 12, 14, 15, 24, 40, 16, 26, 37, 49, 22, 23, 42, 45, 31, 32, 33, 39, 0, 1, 2, 3, 5, 44, 48, 25, 43, 54, 6, 8, 11, 13, 20, 34, 50, 2, 3, 4, 17, 18, 21, 29, 36, 38, 41, 46, 52, 53, 61, 62, 27, 35, 19, 28, 30, 47, 59, 60, 51, 55, 56, 57, 58, 6, 7, 9, 10, 12, 14, 15, 24, 40, 16, 26, 37, 49, 22, 23, 42, 45, 31, 32, 33, 39, 0, 1, 2, 3, 5, 44, 48, 25, 43, 54, 6, 8, 11, 13, 20, 34, 50, 2, 3, 4, 17, 18, 21, 29, 36, 38, 41, 46, 52, 53, 61, 62, 27, 35, 19, 28, 30, 47, 59, 60, 51, 55, 56, 57, 58]],\n",
       "           names=['VaCodeVariable', 'CaCodeVariable', 'CaCodeCategory'])"
      ]
     },
     "execution_count": 31,
     "metadata": {},
     "output_type": "execute_result"
    }
   ],
   "source": [
    "new_test.columns"
   ]
  },
  {
   "cell_type": "code",
   "execution_count": 41,
   "metadata": {},
   "outputs": [
    {
     "data": {
      "text/html": [
       "<div>\n",
       "<style scoped>\n",
       "    .dataframe tbody tr th:only-of-type {\n",
       "        vertical-align: middle;\n",
       "    }\n",
       "\n",
       "    .dataframe tbody tr th {\n",
       "        vertical-align: top;\n",
       "    }\n",
       "\n",
       "    .dataframe thead th {\n",
       "        text-align: right;\n",
       "    }\n",
       "</style>\n",
       "<table border=\"1\" class=\"dataframe\">\n",
       "  <thead>\n",
       "    <tr style=\"text-align: right;\">\n",
       "      <th>CaCodeCategory</th>\n",
       "      <th>auckland</th>\n",
       "      <th>bay_of_plenty</th>\n",
       "      <th>canterbury</th>\n",
       "      <th>gisborne_/_hawkes_bay</th>\n",
       "      <th>manawatu_/_whanganui</th>\n",
       "      <th>nelson/tasman/marlborough/west_coast</th>\n",
       "      <th>northland</th>\n",
       "      <th>otago</th>\n",
       "      <th>southland</th>\n",
       "      <th>taranaki</th>\n",
       "      <th>waikato</th>\n",
       "      <th>wellington</th>\n",
       "    </tr>\n",
       "    <tr>\n",
       "      <th>rankings</th>\n",
       "      <th></th>\n",
       "      <th></th>\n",
       "      <th></th>\n",
       "      <th></th>\n",
       "      <th></th>\n",
       "      <th></th>\n",
       "      <th></th>\n",
       "      <th></th>\n",
       "      <th></th>\n",
       "      <th></th>\n",
       "      <th></th>\n",
       "      <th></th>\n",
       "    </tr>\n",
       "  </thead>\n",
       "  <tbody>\n",
       "    <tr>\n",
       "      <th>-1</th>\n",
       "      <td>NaN</td>\n",
       "      <td>NaN</td>\n",
       "      <td>NaN</td>\n",
       "      <td>NaN</td>\n",
       "      <td>NaN</td>\n",
       "      <td>NaN</td>\n",
       "      <td>NaN</td>\n",
       "      <td>NaN</td>\n",
       "      <td>NaN</td>\n",
       "      <td>NaN</td>\n",
       "      <td>NaN</td>\n",
       "      <td>NaN</td>\n",
       "    </tr>\n",
       "    <tr>\n",
       "      <th>excellent</th>\n",
       "      <td>16.7</td>\n",
       "      <td>15.60</td>\n",
       "      <td>17.3</td>\n",
       "      <td>18.40</td>\n",
       "      <td>17.2</td>\n",
       "      <td>18.2</td>\n",
       "      <td>18.4</td>\n",
       "      <td>16.20</td>\n",
       "      <td>21.3</td>\n",
       "      <td>20.50</td>\n",
       "      <td>21.40</td>\n",
       "      <td>18.00</td>\n",
       "    </tr>\n",
       "    <tr>\n",
       "      <th>good</th>\n",
       "      <td>33.7</td>\n",
       "      <td>29.40</td>\n",
       "      <td>30.8</td>\n",
       "      <td>26.30</td>\n",
       "      <td>26.8</td>\n",
       "      <td>32.7</td>\n",
       "      <td>30.4</td>\n",
       "      <td>33.90</td>\n",
       "      <td>28.8</td>\n",
       "      <td>23.10</td>\n",
       "      <td>28.80</td>\n",
       "      <td>29.80</td>\n",
       "    </tr>\n",
       "    <tr>\n",
       "      <th>poor</th>\n",
       "      <td>16.5</td>\n",
       "      <td>21.25</td>\n",
       "      <td>17.7</td>\n",
       "      <td>18.95</td>\n",
       "      <td>20.7</td>\n",
       "      <td>15.1</td>\n",
       "      <td>20.7</td>\n",
       "      <td>17.15</td>\n",
       "      <td>15.7</td>\n",
       "      <td>17.35</td>\n",
       "      <td>17.15</td>\n",
       "      <td>18.35</td>\n",
       "    </tr>\n",
       "    <tr>\n",
       "      <th>very good</th>\n",
       "      <td>16.6</td>\n",
       "      <td>12.50</td>\n",
       "      <td>16.5</td>\n",
       "      <td>17.40</td>\n",
       "      <td>14.6</td>\n",
       "      <td>18.9</td>\n",
       "      <td>9.9</td>\n",
       "      <td>15.70</td>\n",
       "      <td>18.5</td>\n",
       "      <td>21.70</td>\n",
       "      <td>15.50</td>\n",
       "      <td>15.50</td>\n",
       "    </tr>\n",
       "  </tbody>\n",
       "</table>\n",
       "</div>"
      ],
      "text/plain": [
       "CaCodeCategory  auckland  bay_of_plenty  canterbury  gisborne_/_hawkes_bay  \\\n",
       "rankings                                                                     \n",
       "-1                   NaN            NaN         NaN                    NaN   \n",
       "excellent           16.7          15.60        17.3                  18.40   \n",
       "good                33.7          29.40        30.8                  26.30   \n",
       "poor                16.5          21.25        17.7                  18.95   \n",
       "very good           16.6          12.50        16.5                  17.40   \n",
       "\n",
       "CaCodeCategory  manawatu_/_whanganui  nelson/tasman/marlborough/west_coast  \\\n",
       "rankings                                                                     \n",
       "-1                               NaN                                   NaN   \n",
       "excellent                       17.2                                  18.2   \n",
       "good                            26.8                                  32.7   \n",
       "poor                            20.7                                  15.1   \n",
       "very good                       14.6                                  18.9   \n",
       "\n",
       "CaCodeCategory  northland  otago  southland  taranaki  waikato  wellington  \n",
       "rankings                                                                    \n",
       "-1                    NaN    NaN        NaN       NaN      NaN         NaN  \n",
       "excellent            18.4  16.20       21.3     20.50    21.40       18.00  \n",
       "good                 30.4  33.90       28.8     23.10    28.80       29.80  \n",
       "poor                 20.7  17.15       15.7     17.35    17.15       18.35  \n",
       "very good             9.9  15.70       18.5     21.70    15.50       15.50  "
      ]
     },
     "execution_count": 41,
     "metadata": {},
     "output_type": "execute_result"
    }
   ],
   "source": [
    "new_test['family_wellbeing']['region']"
   ]
  },
  {
   "cell_type": "code",
   "execution_count": null,
   "metadata": {},
   "outputs": [],
   "source": []
  }
 ],
 "metadata": {
  "kernelspec": {
   "display_name": "Python 3",
   "language": "python",
   "name": "python3"
  },
  "language_info": {
   "codemirror_mode": {
    "name": "ipython",
    "version": 3
   },
   "file_extension": ".py",
   "mimetype": "text/x-python",
   "name": "python",
   "nbconvert_exporter": "python",
   "pygments_lexer": "ipython3",
   "version": "3.5.6"
  }
 },
 "nbformat": 4,
 "nbformat_minor": 2
}
