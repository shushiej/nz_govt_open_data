{
 "cells": [
  {
   "cell_type": "code",
   "execution_count": 1,
   "metadata": {},
   "outputs": [],
   "source": [
    "import pandas as pd\n",
    "import numpy as np\n",
    "import seaborn as sns"
   ]
  },
  {
   "cell_type": "code",
   "execution_count": 2,
   "metadata": {},
   "outputs": [],
   "source": [
    "gdp = pd.read_csv(\"../DATA/gross-domestic-product-march-2019-quarter-csv.csv\")"
   ]
  },
  {
   "cell_type": "code",
   "execution_count": 3,
   "metadata": {},
   "outputs": [
    {
     "data": {
      "text/html": [
       "<div>\n",
       "<style scoped>\n",
       "    .dataframe tbody tr th:only-of-type {\n",
       "        vertical-align: middle;\n",
       "    }\n",
       "\n",
       "    .dataframe tbody tr th {\n",
       "        vertical-align: top;\n",
       "    }\n",
       "\n",
       "    .dataframe thead th {\n",
       "        text-align: right;\n",
       "    }\n",
       "</style>\n",
       "<table border=\"1\" class=\"dataframe\">\n",
       "  <thead>\n",
       "    <tr style=\"text-align: right;\">\n",
       "      <th></th>\n",
       "      <th>Series_reference</th>\n",
       "      <th>Period</th>\n",
       "      <th>Data_value</th>\n",
       "      <th>STATUS</th>\n",
       "      <th>UNITS</th>\n",
       "      <th>MAGNTUDE</th>\n",
       "      <th>Subject</th>\n",
       "      <th>Group</th>\n",
       "      <th>Series_title_1</th>\n",
       "      <th>Series_title_2</th>\n",
       "      <th>Series_title_3</th>\n",
       "      <th>Series_title_4</th>\n",
       "      <th>Series_title_5</th>\n",
       "    </tr>\n",
       "  </thead>\n",
       "  <tbody>\n",
       "    <tr>\n",
       "      <th>0</th>\n",
       "      <td>SNEA.SG00NAC00B15</td>\n",
       "      <td>1972.03</td>\n",
       "      <td>6990.0</td>\n",
       "      <td>FINAL</td>\n",
       "      <td>Dollars</td>\n",
       "      <td>6</td>\n",
       "      <td>National Accounts - SNA 2008 - SNE</td>\n",
       "      <td>Series, Key aggregates, Nominal, Actual, Total</td>\n",
       "      <td>Gross Domestic Product - expenditure measure</td>\n",
       "      <td>NaN</td>\n",
       "      <td>NaN</td>\n",
       "      <td>NaN</td>\n",
       "      <td>NaN</td>\n",
       "    </tr>\n",
       "    <tr>\n",
       "      <th>1</th>\n",
       "      <td>SNEA.SG00NAC00B15</td>\n",
       "      <td>1973.03</td>\n",
       "      <td>8080.0</td>\n",
       "      <td>FINAL</td>\n",
       "      <td>Dollars</td>\n",
       "      <td>6</td>\n",
       "      <td>National Accounts - SNA 2008 - SNE</td>\n",
       "      <td>Series, Key aggregates, Nominal, Actual, Total</td>\n",
       "      <td>Gross Domestic Product - expenditure measure</td>\n",
       "      <td>NaN</td>\n",
       "      <td>NaN</td>\n",
       "      <td>NaN</td>\n",
       "      <td>NaN</td>\n",
       "    </tr>\n",
       "    <tr>\n",
       "      <th>2</th>\n",
       "      <td>SNEA.SG00NAC00B15</td>\n",
       "      <td>1974.03</td>\n",
       "      <td>9361.0</td>\n",
       "      <td>FINAL</td>\n",
       "      <td>Dollars</td>\n",
       "      <td>6</td>\n",
       "      <td>National Accounts - SNA 2008 - SNE</td>\n",
       "      <td>Series, Key aggregates, Nominal, Actual, Total</td>\n",
       "      <td>Gross Domestic Product - expenditure measure</td>\n",
       "      <td>NaN</td>\n",
       "      <td>NaN</td>\n",
       "      <td>NaN</td>\n",
       "      <td>NaN</td>\n",
       "    </tr>\n",
       "    <tr>\n",
       "      <th>3</th>\n",
       "      <td>SNEA.SG00NAC00B15</td>\n",
       "      <td>1975.03</td>\n",
       "      <td>10203.0</td>\n",
       "      <td>FINAL</td>\n",
       "      <td>Dollars</td>\n",
       "      <td>6</td>\n",
       "      <td>National Accounts - SNA 2008 - SNE</td>\n",
       "      <td>Series, Key aggregates, Nominal, Actual, Total</td>\n",
       "      <td>Gross Domestic Product - expenditure measure</td>\n",
       "      <td>NaN</td>\n",
       "      <td>NaN</td>\n",
       "      <td>NaN</td>\n",
       "      <td>NaN</td>\n",
       "    </tr>\n",
       "    <tr>\n",
       "      <th>4</th>\n",
       "      <td>SNEA.SG00NAC00B15</td>\n",
       "      <td>1976.03</td>\n",
       "      <td>11506.0</td>\n",
       "      <td>FINAL</td>\n",
       "      <td>Dollars</td>\n",
       "      <td>6</td>\n",
       "      <td>National Accounts - SNA 2008 - SNE</td>\n",
       "      <td>Series, Key aggregates, Nominal, Actual, Total</td>\n",
       "      <td>Gross Domestic Product - expenditure measure</td>\n",
       "      <td>NaN</td>\n",
       "      <td>NaN</td>\n",
       "      <td>NaN</td>\n",
       "      <td>NaN</td>\n",
       "    </tr>\n",
       "  </tbody>\n",
       "</table>\n",
       "</div>"
      ],
      "text/plain": [
       "    Series_reference   Period  Data_value STATUS    UNITS  MAGNTUDE  \\\n",
       "0  SNEA.SG00NAC00B15  1972.03      6990.0  FINAL  Dollars         6   \n",
       "1  SNEA.SG00NAC00B15  1973.03      8080.0  FINAL  Dollars         6   \n",
       "2  SNEA.SG00NAC00B15  1974.03      9361.0  FINAL  Dollars         6   \n",
       "3  SNEA.SG00NAC00B15  1975.03     10203.0  FINAL  Dollars         6   \n",
       "4  SNEA.SG00NAC00B15  1976.03     11506.0  FINAL  Dollars         6   \n",
       "\n",
       "                              Subject  \\\n",
       "0  National Accounts - SNA 2008 - SNE   \n",
       "1  National Accounts - SNA 2008 - SNE   \n",
       "2  National Accounts - SNA 2008 - SNE   \n",
       "3  National Accounts - SNA 2008 - SNE   \n",
       "4  National Accounts - SNA 2008 - SNE   \n",
       "\n",
       "                                            Group  \\\n",
       "0  Series, Key aggregates, Nominal, Actual, Total   \n",
       "1  Series, Key aggregates, Nominal, Actual, Total   \n",
       "2  Series, Key aggregates, Nominal, Actual, Total   \n",
       "3  Series, Key aggregates, Nominal, Actual, Total   \n",
       "4  Series, Key aggregates, Nominal, Actual, Total   \n",
       "\n",
       "                                 Series_title_1 Series_title_2 Series_title_3  \\\n",
       "0  Gross Domestic Product - expenditure measure            NaN            NaN   \n",
       "1  Gross Domestic Product - expenditure measure            NaN            NaN   \n",
       "2  Gross Domestic Product - expenditure measure            NaN            NaN   \n",
       "3  Gross Domestic Product - expenditure measure            NaN            NaN   \n",
       "4  Gross Domestic Product - expenditure measure            NaN            NaN   \n",
       "\n",
       "   Series_title_4  Series_title_5  \n",
       "0             NaN             NaN  \n",
       "1             NaN             NaN  \n",
       "2             NaN             NaN  \n",
       "3             NaN             NaN  \n",
       "4             NaN             NaN  "
      ]
     },
     "execution_count": 3,
     "metadata": {},
     "output_type": "execute_result"
    }
   ],
   "source": [
    "gdp.head()"
   ]
  },
  {
   "cell_type": "code",
   "execution_count": 4,
   "metadata": {},
   "outputs": [
    {
     "data": {
      "text/plain": [
       "array(['Gross Domestic Product - expenditure measure',\n",
       "       'Gross National Expenditure',\n",
       "       'Gross Domestic Product - production measure',\n",
       "       'Disposable Income - gross', 'Final Consumption Expenditure',\n",
       "       'Gross Fixed Capital Formation', 'Changes in Inventories',\n",
       "       'Exports of Goods', 'Imports of Goods', 'National Income - gross',\n",
       "       'Trading Gain or Loss', 'Domestic Income - gross',\n",
       "       'Investment Income, net', 'Current Transfers and Taxes, net',\n",
       "       'Gross Capital Formation', 'Exports of Goods and Services',\n",
       "       'Exports of Services', 'Imports of Goods and Services',\n",
       "       'Imports of Services'], dtype=object)"
      ]
     },
     "execution_count": 4,
     "metadata": {},
     "output_type": "execute_result"
    }
   ],
   "source": [
    "gdp.Series_title_1.unique()"
   ]
  },
  {
   "cell_type": "code",
   "execution_count": 5,
   "metadata": {},
   "outputs": [
    {
     "data": {
      "text/plain": [
       "array(['FINAL', 'REVISED', 'CONFIDENTIAL', 'PROVISIONAL'], dtype=object)"
      ]
     },
     "execution_count": 5,
     "metadata": {},
     "output_type": "execute_result"
    }
   ],
   "source": [
    "gdp.STATUS.unique()"
   ]
  },
  {
   "cell_type": "code",
   "execution_count": 6,
   "metadata": {},
   "outputs": [],
   "source": [
    "gdp_measure = gdp[(gdp.Series_title_1 == \"Gross Domestic Product - production measure\") \n",
    "                  & (gdp.Series_title_2 == \"Per Capita in New Zealand dollars\")\n",
    "                 & (gdp.STATUS == 'FINAL')]"
   ]
  },
  {
   "cell_type": "code",
   "execution_count": 7,
   "metadata": {},
   "outputs": [
    {
     "data": {
      "text/html": [
       "<div>\n",
       "<style scoped>\n",
       "    .dataframe tbody tr th:only-of-type {\n",
       "        vertical-align: middle;\n",
       "    }\n",
       "\n",
       "    .dataframe tbody tr th {\n",
       "        vertical-align: top;\n",
       "    }\n",
       "\n",
       "    .dataframe thead th {\n",
       "        text-align: right;\n",
       "    }\n",
       "</style>\n",
       "<table border=\"1\" class=\"dataframe\">\n",
       "  <thead>\n",
       "    <tr style=\"text-align: right;\">\n",
       "      <th></th>\n",
       "      <th>Series_reference</th>\n",
       "      <th>Period</th>\n",
       "      <th>Data_value</th>\n",
       "      <th>STATUS</th>\n",
       "      <th>UNITS</th>\n",
       "      <th>MAGNTUDE</th>\n",
       "      <th>Subject</th>\n",
       "      <th>Group</th>\n",
       "      <th>Series_title_1</th>\n",
       "      <th>Series_title_2</th>\n",
       "      <th>Series_title_3</th>\n",
       "      <th>Series_title_4</th>\n",
       "      <th>Series_title_5</th>\n",
       "    </tr>\n",
       "  </thead>\n",
       "  <tbody>\n",
       "    <tr>\n",
       "      <th>15044</th>\n",
       "      <td>SNEA.SG09NAC00B01NZ</td>\n",
       "      <td>1992.03</td>\n",
       "      <td>21670.0</td>\n",
       "      <td>FINAL</td>\n",
       "      <td>Dollars</td>\n",
       "      <td>6</td>\n",
       "      <td>National Accounts - SNA 2008 - SNE</td>\n",
       "      <td>Series, Per capita measure, Nominal, Actual, T...</td>\n",
       "      <td>Gross Domestic Product - production measure</td>\n",
       "      <td>Per Capita in New Zealand dollars</td>\n",
       "      <td>NaN</td>\n",
       "      <td>NaN</td>\n",
       "      <td>NaN</td>\n",
       "    </tr>\n",
       "    <tr>\n",
       "      <th>15045</th>\n",
       "      <td>SNEA.SG09NAC00B01NZ</td>\n",
       "      <td>1993.03</td>\n",
       "      <td>22115.0</td>\n",
       "      <td>FINAL</td>\n",
       "      <td>Dollars</td>\n",
       "      <td>6</td>\n",
       "      <td>National Accounts - SNA 2008 - SNE</td>\n",
       "      <td>Series, Per capita measure, Nominal, Actual, T...</td>\n",
       "      <td>Gross Domestic Product - production measure</td>\n",
       "      <td>Per Capita in New Zealand dollars</td>\n",
       "      <td>NaN</td>\n",
       "      <td>NaN</td>\n",
       "      <td>NaN</td>\n",
       "    </tr>\n",
       "    <tr>\n",
       "      <th>15046</th>\n",
       "      <td>SNEA.SG09NAC00B01NZ</td>\n",
       "      <td>1994.03</td>\n",
       "      <td>23590.0</td>\n",
       "      <td>FINAL</td>\n",
       "      <td>Dollars</td>\n",
       "      <td>6</td>\n",
       "      <td>National Accounts - SNA 2008 - SNE</td>\n",
       "      <td>Series, Per capita measure, Nominal, Actual, T...</td>\n",
       "      <td>Gross Domestic Product - production measure</td>\n",
       "      <td>Per Capita in New Zealand dollars</td>\n",
       "      <td>NaN</td>\n",
       "      <td>NaN</td>\n",
       "      <td>NaN</td>\n",
       "    </tr>\n",
       "    <tr>\n",
       "      <th>15047</th>\n",
       "      <td>SNEA.SG09NAC00B01NZ</td>\n",
       "      <td>1995.03</td>\n",
       "      <td>24928.0</td>\n",
       "      <td>FINAL</td>\n",
       "      <td>Dollars</td>\n",
       "      <td>6</td>\n",
       "      <td>National Accounts - SNA 2008 - SNE</td>\n",
       "      <td>Series, Per capita measure, Nominal, Actual, T...</td>\n",
       "      <td>Gross Domestic Product - production measure</td>\n",
       "      <td>Per Capita in New Zealand dollars</td>\n",
       "      <td>NaN</td>\n",
       "      <td>NaN</td>\n",
       "      <td>NaN</td>\n",
       "    </tr>\n",
       "    <tr>\n",
       "      <th>15048</th>\n",
       "      <td>SNEA.SG09NAC00B01NZ</td>\n",
       "      <td>1996.03</td>\n",
       "      <td>26076.0</td>\n",
       "      <td>FINAL</td>\n",
       "      <td>Dollars</td>\n",
       "      <td>6</td>\n",
       "      <td>National Accounts - SNA 2008 - SNE</td>\n",
       "      <td>Series, Per capita measure, Nominal, Actual, T...</td>\n",
       "      <td>Gross Domestic Product - production measure</td>\n",
       "      <td>Per Capita in New Zealand dollars</td>\n",
       "      <td>NaN</td>\n",
       "      <td>NaN</td>\n",
       "      <td>NaN</td>\n",
       "    </tr>\n",
       "  </tbody>\n",
       "</table>\n",
       "</div>"
      ],
      "text/plain": [
       "          Series_reference   Period  Data_value STATUS    UNITS  MAGNTUDE  \\\n",
       "15044  SNEA.SG09NAC00B01NZ  1992.03     21670.0  FINAL  Dollars         6   \n",
       "15045  SNEA.SG09NAC00B01NZ  1993.03     22115.0  FINAL  Dollars         6   \n",
       "15046  SNEA.SG09NAC00B01NZ  1994.03     23590.0  FINAL  Dollars         6   \n",
       "15047  SNEA.SG09NAC00B01NZ  1995.03     24928.0  FINAL  Dollars         6   \n",
       "15048  SNEA.SG09NAC00B01NZ  1996.03     26076.0  FINAL  Dollars         6   \n",
       "\n",
       "                                  Subject  \\\n",
       "15044  National Accounts - SNA 2008 - SNE   \n",
       "15045  National Accounts - SNA 2008 - SNE   \n",
       "15046  National Accounts - SNA 2008 - SNE   \n",
       "15047  National Accounts - SNA 2008 - SNE   \n",
       "15048  National Accounts - SNA 2008 - SNE   \n",
       "\n",
       "                                                   Group  \\\n",
       "15044  Series, Per capita measure, Nominal, Actual, T...   \n",
       "15045  Series, Per capita measure, Nominal, Actual, T...   \n",
       "15046  Series, Per capita measure, Nominal, Actual, T...   \n",
       "15047  Series, Per capita measure, Nominal, Actual, T...   \n",
       "15048  Series, Per capita measure, Nominal, Actual, T...   \n",
       "\n",
       "                                    Series_title_1  \\\n",
       "15044  Gross Domestic Product - production measure   \n",
       "15045  Gross Domestic Product - production measure   \n",
       "15046  Gross Domestic Product - production measure   \n",
       "15047  Gross Domestic Product - production measure   \n",
       "15048  Gross Domestic Product - production measure   \n",
       "\n",
       "                          Series_title_2 Series_title_3  Series_title_4  \\\n",
       "15044  Per Capita in New Zealand dollars            NaN             NaN   \n",
       "15045  Per Capita in New Zealand dollars            NaN             NaN   \n",
       "15046  Per Capita in New Zealand dollars            NaN             NaN   \n",
       "15047  Per Capita in New Zealand dollars            NaN             NaN   \n",
       "15048  Per Capita in New Zealand dollars            NaN             NaN   \n",
       "\n",
       "       Series_title_5  \n",
       "15044             NaN  \n",
       "15045             NaN  \n",
       "15046             NaN  \n",
       "15047             NaN  \n",
       "15048             NaN  "
      ]
     },
     "execution_count": 7,
     "metadata": {},
     "output_type": "execute_result"
    }
   ],
   "source": [
    "gdp_measure.head()"
   ]
  },
  {
   "cell_type": "code",
   "execution_count": 8,
   "metadata": {},
   "outputs": [
    {
     "name": "stderr",
     "output_type": "stream",
     "text": [
      "/Users/joshishushruth/anaconda3/lib/python3.5/site-packages/pandas/core/frame.py:3697: SettingWithCopyWarning: \n",
      "A value is trying to be set on a copy of a slice from a DataFrame\n",
      "\n",
      "See the caveats in the documentation: http://pandas.pydata.org/pandas-docs/stable/indexing.html#indexing-view-versus-copy\n",
      "  errors=errors)\n"
     ]
    }
   ],
   "source": [
    "gdp_measure.drop(columns=['Series_reference', 'STATUS', 'UNITS', 'MAGNTUDE', \n",
    "                          'Subject', 'Group', 'Series_title_1', 'Series_title_2',\n",
    "                         'Series_title_3', 'Series_title_4', 'Series_title_5'], axis=1, inplace=True)"
   ]
  },
  {
   "cell_type": "code",
   "execution_count": 9,
   "metadata": {},
   "outputs": [
    {
     "data": {
      "text/html": [
       "<div>\n",
       "<style scoped>\n",
       "    .dataframe tbody tr th:only-of-type {\n",
       "        vertical-align: middle;\n",
       "    }\n",
       "\n",
       "    .dataframe tbody tr th {\n",
       "        vertical-align: top;\n",
       "    }\n",
       "\n",
       "    .dataframe thead th {\n",
       "        text-align: right;\n",
       "    }\n",
       "</style>\n",
       "<table border=\"1\" class=\"dataframe\">\n",
       "  <thead>\n",
       "    <tr style=\"text-align: right;\">\n",
       "      <th></th>\n",
       "      <th>Period</th>\n",
       "      <th>Data_value</th>\n",
       "    </tr>\n",
       "  </thead>\n",
       "  <tbody>\n",
       "    <tr>\n",
       "      <th>15044</th>\n",
       "      <td>1992.03</td>\n",
       "      <td>21670.0</td>\n",
       "    </tr>\n",
       "    <tr>\n",
       "      <th>15045</th>\n",
       "      <td>1993.03</td>\n",
       "      <td>22115.0</td>\n",
       "    </tr>\n",
       "    <tr>\n",
       "      <th>15046</th>\n",
       "      <td>1994.03</td>\n",
       "      <td>23590.0</td>\n",
       "    </tr>\n",
       "    <tr>\n",
       "      <th>15047</th>\n",
       "      <td>1995.03</td>\n",
       "      <td>24928.0</td>\n",
       "    </tr>\n",
       "    <tr>\n",
       "      <th>15048</th>\n",
       "      <td>1996.03</td>\n",
       "      <td>26076.0</td>\n",
       "    </tr>\n",
       "  </tbody>\n",
       "</table>\n",
       "</div>"
      ],
      "text/plain": [
       "        Period  Data_value\n",
       "15044  1992.03     21670.0\n",
       "15045  1993.03     22115.0\n",
       "15046  1994.03     23590.0\n",
       "15047  1995.03     24928.0\n",
       "15048  1996.03     26076.0"
      ]
     },
     "execution_count": 9,
     "metadata": {},
     "output_type": "execute_result"
    }
   ],
   "source": [
    "gdp_measure.head()"
   ]
  },
  {
   "cell_type": "code",
   "execution_count": 10,
   "metadata": {},
   "outputs": [
    {
     "name": "stderr",
     "output_type": "stream",
     "text": [
      "/Users/joshishushruth/anaconda3/lib/python3.5/site-packages/ipykernel_launcher.py:1: SettingWithCopyWarning: \n",
      "A value is trying to be set on a copy of a slice from a DataFrame.\n",
      "Try using .loc[row_indexer,col_indexer] = value instead\n",
      "\n",
      "See the caveats in the documentation: http://pandas.pydata.org/pandas-docs/stable/indexing.html#indexing-view-versus-copy\n",
      "  \"\"\"Entry point for launching an IPython kernel.\n",
      "/Users/joshishushruth/anaconda3/lib/python3.5/site-packages/ipykernel_launcher.py:2: SettingWithCopyWarning: \n",
      "A value is trying to be set on a copy of a slice from a DataFrame.\n",
      "Try using .loc[row_indexer,col_indexer] = value instead\n",
      "\n",
      "See the caveats in the documentation: http://pandas.pydata.org/pandas-docs/stable/indexing.html#indexing-view-versus-copy\n",
      "  \n",
      "/Users/joshishushruth/anaconda3/lib/python3.5/site-packages/ipykernel_launcher.py:3: SettingWithCopyWarning: \n",
      "A value is trying to be set on a copy of a slice from a DataFrame.\n",
      "Try using .loc[row_indexer,col_indexer] = value instead\n",
      "\n",
      "See the caveats in the documentation: http://pandas.pydata.org/pandas-docs/stable/indexing.html#indexing-view-versus-copy\n",
      "  This is separate from the ipykernel package so we can avoid doing imports until\n"
     ]
    }
   ],
   "source": [
    "gdp_measure['date_col'] = gdp_measure['Period'].astype(str).str.split('.')\n",
    "gdp_measure['year'] = [x[0] for x in gdp_measure['date_col']]\n",
    "gdp_measure['year'] = pd.to_datetime(gdp_measure['year'])"
   ]
  },
  {
   "cell_type": "code",
   "execution_count": 11,
   "metadata": {},
   "outputs": [],
   "source": [
    "gdp_measure.drop(columns=['Period', 'date_col'], axis=1, inplace=True)"
   ]
  },
  {
   "cell_type": "code",
   "execution_count": 12,
   "metadata": {},
   "outputs": [],
   "source": [
    "gdp_final = pd.DataFrame(gdp_measure.groupby('year')['Data_value'].sum())"
   ]
  },
  {
   "cell_type": "code",
   "execution_count": 13,
   "metadata": {},
   "outputs": [],
   "source": [
    "gdp_final.reset_index(inplace=True)"
   ]
  },
  {
   "cell_type": "code",
   "execution_count": 14,
   "metadata": {},
   "outputs": [],
   "source": [
    "gdp_final.to_json(\"../JSON_DATA/gdp_production_per_year_per_capita.json\", orient='table')"
   ]
  },
  {
   "cell_type": "code",
   "execution_count": 15,
   "metadata": {},
   "outputs": [
    {
     "data": {
      "text/plain": [
       "<matplotlib.axes._subplots.AxesSubplot at 0x1a13b15cf8>"
      ]
     },
     "execution_count": 15,
     "metadata": {},
     "output_type": "execute_result"
    },
    {
     "data": {
      "image/png": "[encoded data removed]",
      "text/plain": [
       "<Figure size 432x288 with 1 Axes>"
      ]
     },
     "metadata": {
      "needs_background": "light"
     },
     "output_type": "display_data"
    }
   ],
   "source": [
    "sns.lineplot(x='year', y=\"Data_value\", data=gdp_final)"
   ]
  },
  {
   "cell_type": "code",
   "execution_count": null,
   "metadata": {},
   "outputs": [],
   "source": []
  }
 ],
 "metadata": {
  "kernelspec": {
   "display_name": "Python 3",
   "language": "python",
   "name": "python3"
  },
  "language_info": {
   "codemirror_mode": {
    "name": "ipython",
    "version": 3
   },
   "file_extension": ".py",
   "mimetype": "text/x-python",
   "name": "python",
   "nbconvert_exporter": "python",
   "pygments_lexer": "ipython3",
   "version": "3.5.6"
  }
 },
 "nbformat": 4,
 "nbformat_minor": 2
}
